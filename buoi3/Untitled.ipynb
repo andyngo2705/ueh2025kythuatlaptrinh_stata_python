{
 "cells": [
  {
   "cell_type": "code",
   "execution_count": 13,
   "id": "4372915f-9e67-478e-b357-154a189c5a88",
   "metadata": {},
   "outputs": [
    {
     "name": "stdout",
     "output_type": "stream",
     "text": [
      "[2, 3]\n"
     ]
    }
   ],
   "source": [
    "a = list((1,2,3,4,5))\n",
    "print(a[1:3])"
   ]
  },
  {
   "cell_type": "code",
   "execution_count": null,
   "id": "447d1d76-8603-457a-bf4c-6fda1bc8e08c",
   "metadata": {},
   "outputs": [],
   "source": []
  }
 ],
 "metadata": {
  "kernelspec": {
   "display_name": "Python 3 (ipykernel)",
   "language": "python",
   "name": "python3"
  },
  "language_info": {
   "codemirror_mode": {
    "name": "ipython",
    "version": 3
   },
   "file_extension": ".py",
   "mimetype": "text/x-python",
   "name": "python",
   "nbconvert_exporter": "python",
   "pygments_lexer": "ipython3",
   "version": "3.12.1"
  }
 },
 "nbformat": 4,
 "nbformat_minor": 5
}
