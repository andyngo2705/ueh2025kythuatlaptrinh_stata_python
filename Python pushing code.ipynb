{
 "cells": [
  {
   "cell_type": "markdown",
   "id": "61b70843-f666-4412-b34d-42c0b13c3af0",
   "metadata": {},
   "source": [
    "# python book"
   ]
  },
  {
   "cell_type": "code",
   "execution_count": 11,
   "id": "1d657e8b-876c-4138-8a94-4961d24201a3",
   "metadata": {},
   "outputs": [
    {
     "name": "stdout",
     "output_type": "stream",
     "text": [
      "fatal: destination path 'pydata-book' already exists and is not an empty directory.\n",
      "README.md  Untitled.ipynb  buoi1  buoi2  buoi3\tpydata-book\n",
      "rm: missing operand\n",
      "Try 'rm --help' for more information.\n",
      "usage: sudo -h | -K | -k | -V\n",
      "usage: sudo -v [-ABkNnS] [-g group] [-h host] [-p prompt] [-u user]\n",
      "usage: sudo -l [-ABkNnS] [-g group] [-h host] [-p prompt] [-U user]\n",
      "            [-u user] [command [arg ...]]\n",
      "usage: sudo [-ABbEHkNnPS] [-r role] [-t type] [-C num] [-D directory]\n",
      "            [-g group] [-h host] [-p prompt] [-R directory] [-T timeout]\n",
      "            [-u user] [VAR=value] [-i | -s] [command [arg ...]]\n",
      "usage: sudo -e [-ABkNnS] [-r role] [-t type] [-C num] [-D directory]\n",
      "            [-g group] [-h host] [-p prompt] [-R directory] [-T timeout]\n",
      "            [-u user] file ...\n"
     ]
    }
   ],
   "source": [
    "# add sách\n",
    "#!git clone https://github.com/wesm/pydata-book\n",
    "#!ls\n",
    "#!rm -r\n",
    "#!sudo"
   ]
  },
  {
   "cell_type": "code",
   "execution_count": 14,
   "id": "c0910f42-9f54-4be3-b436-464ec5334ec6",
   "metadata": {},
   "outputs": [
    {
     "name": "stdout",
     "output_type": "stream",
     "text": [
      "On branch main\n",
      "Your branch is up to date with 'origin/main'.\n",
      "\n",
      "Changes not staged for commit:\n",
      "  (use \"git add/rm <file>...\" to update what will be committed)\n",
      "  (use \"git restore <file>...\" to discard changes in working directory)\n",
      "\t\u001b[31mmodified:   buoi2/.ipynb_checkpoints/bai_tap_thuc_hanh_1-checkpoint.ipynb\u001b[m\n",
      "\t\u001b[31mmodified:   buoi2/bai_tap_1.ipynb\u001b[m\n",
      "\t\u001b[31mdeleted:    buoi2/ex2_scientific1.ipynb\u001b[m\n",
      "\t\u001b[31mmodified:   buoi3/buoi3.ipynb\u001b[m\n",
      "\n",
      "Untracked files:\n",
      "  (use \"git add <file>...\" to include in what will be committed)\n",
      "\t\u001b[31mUntitled.ipynb\u001b[m\n",
      "\t\u001b[31mbuoi1/ai_starter/ex1_scientific1.txt\u001b[m\n",
      "\t\u001b[31mbuoi1/ai_starter/ex2_scientific2.txt\u001b[m\n",
      "\t\u001b[31mbuoi2/bai_tap_thuc_hanh_1.ipynb\u001b[m\n",
      "\t\u001b[31mbuoi3/iris.data\u001b[m\n",
      "\t\u001b[31mpydata-book/\u001b[m\n",
      "\n",
      "no changes added to commit (use \"git add\" and/or \"git commit -a\")\n",
      "git: 'add.' is not a git command. See 'git --help'.\n",
      "\n",
      "The most similar command is\n",
      "\tadd\n",
      "Nothing specified, nothing added.\n",
      "\u001b[33mhint: Maybe you wanted to say 'git add .'?\u001b[m\n",
      "\u001b[33mhint: Disable this message with \"git config set advice.addEmptyPathspec false\"\u001b[m\n",
      "On branch main\n",
      "Your branch is up to date with 'origin/main'.\n",
      "\n",
      "Changes not staged for commit:\n",
      "  (use \"git add/rm <file>...\" to update what will be committed)\n",
      "  (use \"git restore <file>...\" to discard changes in working directory)\n",
      "\t\u001b[31mmodified:   buoi2/.ipynb_checkpoints/bai_tap_thuc_hanh_1-checkpoint.ipynb\u001b[m\n",
      "\t\u001b[31mmodified:   buoi2/bai_tap_1.ipynb\u001b[m\n",
      "\t\u001b[31mdeleted:    buoi2/ex2_scientific1.ipynb\u001b[m\n",
      "\t\u001b[31mmodified:   buoi3/buoi3.ipynb\u001b[m\n",
      "\n",
      "Untracked files:\n",
      "  (use \"git add <file>...\" to include in what will be committed)\n",
      "\t\u001b[31mUntitled.ipynb\u001b[m\n",
      "\t\u001b[31mbuoi1/ai_starter/ex1_scientific1.txt\u001b[m\n",
      "\t\u001b[31mbuoi1/ai_starter/ex2_scientific2.txt\u001b[m\n",
      "\t\u001b[31mbuoi2/bai_tap_thuc_hanh_1.ipynb\u001b[m\n",
      "\t\u001b[31mbuoi3/iris.data\u001b[m\n",
      "\t\u001b[31mpydata-book/\u001b[m\n",
      "\n",
      "no changes added to commit (use \"git add\" and/or \"git commit -a\")\n",
      "Everything up-to-date\n"
     ]
    }
   ],
   "source": [
    "!git status\n",
    "!git add. -n\n",
    "!git add\n",
    "!git commit\n",
    "!git push"
   ]
  },
  {
   "cell_type": "code",
   "execution_count": null,
   "id": "e6bb32d2-1a0c-4a87-972b-46b267e39bac",
   "metadata": {},
   "outputs": [],
   "source": []
  }
 ],
 "metadata": {
  "kernelspec": {
   "display_name": "Python 3 (ipykernel)",
   "language": "python",
   "name": "python3"
  },
  "language_info": {
   "codemirror_mode": {
    "name": "ipython",
    "version": 3
   },
   "file_extension": ".py",
   "mimetype": "text/x-python",
   "name": "python",
   "nbconvert_exporter": "python",
   "pygments_lexer": "ipython3",
   "version": "3.12.1"
  }
 },
 "nbformat": 4,
 "nbformat_minor": 5
}
