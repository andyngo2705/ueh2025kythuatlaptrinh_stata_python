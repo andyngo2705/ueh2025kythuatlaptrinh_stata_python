{
 "cells": [
  {
   "cell_type": "code",
   "execution_count": 1,
   "id": "76f98bbd-3875-4bd6-8635-fed87f62da81",
   "metadata": {},
   "outputs": [
    {
     "name": "stdout",
     "output_type": "stream",
     "text": [
      "Writing Max3Num.in0\n"
     ]
    }
   ],
   "source": [
    "%%writefile Max3Num.in0\n",
    "2\n",
    "5\n",
    "4"
   ]
  },
  {
   "cell_type": "code",
   "execution_count": 7,
   "id": "1ab6fde6-d771-4ab4-a48c-14ee51ff8be8",
   "metadata": {},
   "outputs": [
    {
     "name": "stdout",
     "output_type": "stream",
     "text": [
      "python: can't open file '/workspaces/ueh2025kythuatlaptrinh_stata_python/buoi2/Max3Num.py': [Errno 2] No such file or directory\n"
     ]
    }
   ],
   "source": [
    "!python Max3Num.py <Max3Num.in0"
   ]
  }
 ],
 "metadata": {
  "kernelspec": {
   "display_name": "Python 3 (ipykernel)",
   "language": "python",
   "name": "python3"
  },
  "language_info": {
   "codemirror_mode": {
    "name": "ipython",
    "version": 3
   },
   "file_extension": ".py",
   "mimetype": "text/x-python",
   "name": "python",
   "nbconvert_exporter": "python",
   "pygments_lexer": "ipython3",
   "version": "3.12.1"
  }
 },
 "nbformat": 4,
 "nbformat_minor": 5
}
