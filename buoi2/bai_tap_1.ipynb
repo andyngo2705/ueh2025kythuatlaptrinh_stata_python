{
  "nbformat": 4,
  "nbformat_minor": 0,
  "metadata": {
    "colab": {
      "provenance": [],
      "authorship_tag": "ABX9TyOupA1CKwUslFlCN6iQhpUK",
      "include_colab_link": true
    },
    "kernelspec": {
      "name": "python3",
      "display_name": "Python 3"
    },
    "language_info": {
      "name": "python"
    }
  },
  "cells": [
    {
      "cell_type": "markdown",
      "metadata": {
        "id": "view-in-github",
        "colab_type": "text"
      },
      "source": [
        "<a href=\"https://colab.research.google.com/github/andyngo2705/ueh2025kythuatlaptrinh_stata_python/blob/main/bai_tap_1.ipynb\" target=\"_parent\"><img src=\"https://colab.research.google.com/assets/colab-badge.svg\" alt=\"Open In Colab\"/></a>"
      ]
    },
    {
      "cell_type": "code",
      "execution_count": 1,
      "metadata": {
        "colab": {
          "base_uri": "https://localhost:8080/"
        },
        "id": "_f_7OuDtmijN",
        "outputId": "d426d498-7f63-4e42-e7fd-213a4ac613b3"
      },
      "outputs": [
        {
          "output_type": "stream",
          "name": "stdout",
          "text": [
            "140.71\n"
          ]
        }
      ],
      "source": [
        "pv = 100\n",
        "interest = 0.05\n",
        "n=7\n",
        "fv = pv * (1+interest)**n\n",
        "print(round(fv,2))"
      ]
    }
  ]
}
