{
 "cells": [
  {
   "cell_type": "code",
   "execution_count": 1,
   "id": "8a41127b-1469-45c4-8e69-1a407b0371e6",
   "metadata": {},
   "outputs": [
    {
     "name": "stderr",
     "output_type": "stream",
     "text": [
      "UsageError: Cell magic `%%run` not found (But line magic `%run` exists, did you mean that instead?).\n"
     ]
    }
   ],
   "source": [
    "%%run Calculation.oy"
   ]
  },
  {
   "cell_type": "code",
   "execution_count": null,
   "id": "15094a5a-fb88-43aa-a0b9-5cfed4e8f72a",
   "metadata": {},
   "outputs": [],
   "source": []
  }
 ],
 "metadata": {
  "kernelspec": {
   "display_name": "Python 3 (ipykernel)",
   "language": "python",
   "name": "python3"
  },
  "language_info": {
   "codemirror_mode": {
    "name": "ipython",
    "version": 3
   },
   "file_extension": ".py",
   "mimetype": "text/x-python",
   "name": "python",
   "nbconvert_exporter": "python",
   "pygments_lexer": "ipython3",
   "version": "3.12.1"
  }
 },
 "nbformat": 4,
 "nbformat_minor": 5
}
