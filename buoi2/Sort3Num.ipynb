{
 "cells": [
  {
   "cell_type": "code",
   "execution_count": 1,
   "id": "644ddd6b-01c9-426c-99f1-ac7323668511",
   "metadata": {},
   "outputs": [
    {
     "name": "stdout",
     "output_type": "stream",
     "text": [
      "Writing Sort3Num.in0\n"
     ]
    }
   ],
   "source": [
    "%%writefile Sort3Num.in0\n",
    "4\n",
    "2\n",
    "3"
   ]
  },
  {
   "cell_type": "code",
   "execution_count": 2,
   "id": "f91a258d-164d-4872-9879-a1b96c84be8a",
   "metadata": {},
   "outputs": [
    {
     "name": "stdout",
     "output_type": "stream",
     "text": [
      "Max(4, 2, 3) = 4\n"
     ]
    }
   ],
   "source": [
    "!python Sort3Num.py < Sort3Num.in0"
   ]
  },
  {
   "cell_type": "code",
   "execution_count": null,
   "id": "b3a45914-08e8-416b-8b9a-742d9bbe5874",
   "metadata": {},
   "outputs": [],
   "source": []
  }
 ],
 "metadata": {
  "kernelspec": {
   "display_name": "Python 3 (ipykernel)",
   "language": "python",
   "name": "python3"
  },
  "language_info": {
   "codemirror_mode": {
    "name": "ipython",
    "version": 3
   },
   "file_extension": ".py",
   "mimetype": "text/x-python",
   "name": "python",
   "nbconvert_exporter": "python",
   "pygments_lexer": "ipython3",
   "version": "3.12.1"
  }
 },
 "nbformat": 4,
 "nbformat_minor": 5
}
