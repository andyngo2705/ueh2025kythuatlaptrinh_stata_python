{
 "cells": [
  {
   "cell_type": "markdown",
   "id": "0e652200-04ad-4faf-ae65-660a5e7736e7",
   "metadata": {},
   "source": [
    "# **Bài tập thực hành 1**"
   ]
  },
  {
   "cell_type": "markdown",
   "id": "97d3a3db-ce1c-4ad9-8c86-c66fda9ec772",
   "metadata": {},
   "source": [
    "## Bài tập thực hành"
   ]
  },
  {
   "cell_type": "markdown",
   "id": "0de127b7-7873-489e-8822-a5c54af14e8d",
   "metadata": {},
   "source": [
    "### Bài 1"
   ]
  },
  {
   "cell_type": "code",
   "execution_count": 7,
   "id": "f95b2e22-7d1b-485c-a2e8-0335424bd609",
   "metadata": {},
   "outputs": [
    {
     "name": "stdout",
     "output_type": "stream",
     "text": [
      "**************************************************\n",
      "*Truong: + {info[0]}                            *\n",
      "*Khoa: + {info[0]}                              *\n",
      "*Ho ten: + {info[0]}                            *\n",
      "**************************************************\n"
     ]
    }
   ],
   "source": [
    "info = (\"Dai hoc UEH\",\"CNTT\")\n",
    "width = 50\n",
    "print ('*' * 50)\n",
    "print (f\"*{'Truong: + {info[0]}':<{width-4}} *\")\n",
    "print (f\"*{'Khoa: + {info[0]}':<{width-4}} *\")\n",
    "print (f\"*{'Ho ten: + {info[0]}':<{width-4}} *\")\n",
    "print ('*' * 50)\n"
   ]
  },
  {
   "cell_type": "markdown",
   "id": "1ae296bc-acaf-4ee8-864f-12b30dc619f1",
   "metadata": {},
   "source": [
    "### Bài 2"
   ]
  },
  {
   "cell_type": "code",
   "execution_count": 9,
   "id": "7c3f5892-ff48-426a-b0f3-c0c118bf3a24",
   "metadata": {},
   "outputs": [
    {
     "name": "stdin",
     "output_type": "stream",
     "text": [
      "Nhap ban kinh R: 5\n"
     ]
    },
    {
     "name": "stdout",
     "output_type": "stream",
     "text": [
      "Dien tich S: 78.5\n",
      "Chu vi P: 31.4\n"
     ]
    }
   ],
   "source": [
    "R = int(input('Nhap ban kinh R:'))\n",
    "pi= float(3.14)\n",
    "S = pi*(R**2)\n",
    "P = 2*pi*R\n",
    "print('Dien tich S:', round(S,1))\n",
    "print('Chu vi P:', round(P,1))\n"
   ]
  },
  {
   "cell_type": "markdown",
   "id": "dae11c04-2f3d-4ca5-9198-192cf95dded4",
   "metadata": {},
   "source": [
    "### Bai 3"
   ]
  },
  {
   "cell_type": "code",
   "execution_count": 14,
   "id": "466ffe97-9722-4fee-bbfd-58e91849b45f",
   "metadata": {},
   "outputs": [
    {
     "name": "stdin",
     "output_type": "stream",
     "text": [
      "Nhap so gio: 1\n",
      "Nhap so phut: 20\n",
      "Nhap so giay: 10\n"
     ]
    },
    {
     "name": "stdout",
     "output_type": "stream",
     "text": [
      "Tong so giay cua 1:20:10 la 4810 giay\n"
     ]
    }
   ],
   "source": [
    "h = int(input('Nhap so gio:'))\n",
    "m = int(input('Nhap so phut:'))\n",
    "s = int(input('Nhap so giay:'))\n",
    "total = h*3600 + m*60 + s\n",
    "print(f\"Tong so giay cua {h}:{m}:{s} la {total} giay\") "
   ]
  },
  {
   "cell_type": "markdown",
   "id": "c8717094-b2a2-4966-adf3-a058f2b43a69",
   "metadata": {},
   "source": [
    "### Bai 4\n"
   ]
  },
  {
   "cell_type": "code",
   "execution_count": 6,
   "id": "3d4fe861-f2d5-458b-a8c5-4477a1581023",
   "metadata": {},
   "outputs": [
    {
     "name": "stdin",
     "output_type": "stream",
     "text": [
      "Nhap vao tong so giay: 4810\n"
     ]
    },
    {
     "name": "stdout",
     "output_type": "stream",
     "text": [
      "4810 giay co dang 1:20:10\n"
     ]
    }
   ],
   "source": [
    "total = int(input('Nhap vao tong so giay:'))\n",
    "h = total//3600\n",
    "total_h = total - 3600*h\n",
    "m = (total_h)//60\n",
    "s = total - h*3600 - m*60\n",
    "print(f\"{total} giay co dang {h}:{m}:{s}\")\n"
   ]
  },
  {
   "cell_type": "markdown",
   "id": "99542d51-b045-4681-ad89-587e6682e9ec",
   "metadata": {},
   "source": [
    "### Bai 5"
   ]
  },
  {
   "cell_type": "code",
   "execution_count": 1,
   "id": "8dd329e3-f8ab-43fe-867a-afcd28d55166",
   "metadata": {},
   "outputs": [
    {
     "name": "stdin",
     "output_type": "stream",
     "text": [
      "Nhap do dai canh a: 2\n",
      "Nhap do dai canh b: 4\n",
      "Nhap do dai canh c: 3\n"
     ]
    },
    {
     "name": "stdout",
     "output_type": "stream",
     "text": [
      "Dien tich tam giac S= 2.90\n"
     ]
    }
   ],
   "source": [
    "import math\n",
    "a = int(input('Nhap do dai canh a:'))\n",
    "b = int(input('Nhap do dai canh b:'))\n",
    "c = int(input('Nhap do dai canh c:'))\n",
    "p = (a+b+c)/2\n",
    "S = (math.sqrt(p*(p-a)*(p-b)*(p-c)))\n",
    "print('Dien tich tam giac S=',f\"{S:.2f}\")\n"
   ]
  },
  {
   "cell_type": "markdown",
   "id": "f3f4a34d-69ab-448b-a4fd-076d4e2605b7",
   "metadata": {},
   "source": [
    "### Bai 6\n"
   ]
  },
  {
   "cell_type": "code",
   "execution_count": 9,
   "id": "fe335794-433d-4979-a5c3-479b93b8fad8",
   "metadata": {},
   "outputs": [
    {
     "name": "stdin",
     "output_type": "stream",
     "text": [
      "Nhap so thuc a: 2\n",
      "Nhap so mu n: 4\n"
     ]
    },
    {
     "name": "stdout",
     "output_type": "stream",
     "text": [
      "Ket qua 2^4 = 16\n"
     ]
    }
   ],
   "source": [
    "a = float(input('Nhap so thuc a:'))\n",
    "n = int(input('Nhap so mu n:'))\n",
    "ketqua = a**n\n",
    "print(f\"Ket qua {a:.0f}^{n} = {round(ketqua)}\")"
   ]
  },
  {
   "cell_type": "markdown",
   "id": "e7fa62a2-38ce-44b1-82dc-64ee75518f50",
   "metadata": {},
   "source": [
    "### Bai 7"
   ]
  },
  {
   "cell_type": "code",
   "execution_count": 12,
   "id": "ed1d7dfd-adaa-4b09-840d-671eb97fe694",
   "metadata": {},
   "outputs": [
    {
     "name": "stdin",
     "output_type": "stream",
     "text": [
      "Nhap so nguyen x: 1234\n"
     ]
    },
    {
     "name": "stdout",
     "output_type": "stream",
     "text": [
      "y=4321\n"
     ]
    }
   ],
   "source": [
    "x = int(input('Nhap so nguyen x:'))\n",
    "y = int(str(x)[::-1])\n",
    "print(f\"y={y}\")"
   ]
  },
  {
   "cell_type": "markdown",
   "id": "18427594-1ceb-4605-9673-0930906887a2",
   "metadata": {},
   "source": [
    "### Bai 8"
   ]
  },
  {
   "cell_type": "code",
   "execution_count": 3,
   "id": "b846814a-6557-493b-8f87-52b0cdb689bc",
   "metadata": {},
   "outputs": [
    {
     "name": "stdin",
     "output_type": "stream",
     "text": [
      "Nhap so do: 180\n"
     ]
    },
    {
     "name": "stdout",
     "output_type": "stream",
     "text": [
      "Doi thanh radian: 3.1416 radian\n"
     ]
    }
   ],
   "source": [
    "import math\n",
    "do = int(input('Nhap so do:'))\n",
    "rad = (do * math.pi)/180\n",
    "print(f\"Doi thanh radian: {rad:.4f} radian\")\n"
   ]
  },
  {
   "cell_type": "markdown",
   "id": "46d5b514-cb5f-4225-9d20-5df43e5fbf16",
   "metadata": {},
   "source": [
    "### Bai 9"
   ]
  },
  {
   "cell_type": "code",
   "execution_count": 9,
   "id": "8245729c-418f-4548-8066-784d18cca6ab",
   "metadata": {},
   "outputs": [
    {
     "name": "stdin",
     "output_type": "stream",
     "text": [
      "Nhap so thuc x: 2\n"
     ]
    },
    {
     "name": "stdout",
     "output_type": "stream",
     "text": [
      "y1=157.14\n",
      "y2=0.04\n"
     ]
    }
   ],
   "source": [
    "import math\n",
    "x = float(input('Nhap so thuc x:'))\n",
    "#y1 co dieu kien : x>=0\n",
    "y1 = 4*(x**2 + 10*x*math.sqrt(x) + 3*x +1)\n",
    "if x < 0 :\n",
    "    print(f\"y1 khong the xac dinh boi x<0\")\n",
    "else :\n",
    "    print(f\"y1={y1:.2f}\")\n",
    "#y2 co dieu kien: demoninator !=0\n",
    "numerator = math.sin(math.pi*(x**2)) + math.sqrt(x**2 + 1)\n",
    "denominator = math.exp(2*x) + math.cos(math.pi/4 * x)\n",
    "y2 = numerator/denominator\n",
    "if denominator==0 :\n",
    "    print(f\"y2 khong the xac dinh boi demoninatior = 0\")\n",
    "else :\n",
    "    print(f\"y2={y2:.2f}\")"
   ]
  },
  {
   "cell_type": "markdown",
   "id": "78c4df83-ae90-4d39-8615-03b55843544c",
   "metadata": {},
   "source": [
    "### Bai 10"
   ]
  },
  {
   "cell_type": "code",
   "execution_count": 11,
   "id": "6220ba0b-6ac1-4f59-bfe4-e0125e3f3800",
   "metadata": {},
   "outputs": [
    {
     "name": "stdin",
     "output_type": "stream",
     "text": [
      "Nhap so nguyen x1: 3\n",
      "Nhap so nguyen x2: 4\n",
      "Nhap so nguyen y1: 6\n",
      "Nhap so nguyen y1: 2\n"
     ]
    },
    {
     "name": "stdout",
     "output_type": "stream",
     "text": [
      " khoang cach giua 2 diem A(3,4) va B(6,2) la 4.0\n"
     ]
    }
   ],
   "source": [
    "import math\n",
    "x1 = int(input('Nhap so nguyen x1:'))\n",
    "x2 = int(input('Nhap so nguyen x2:'))\n",
    "y1 = int(input('Nhap so nguyen y1:'))\n",
    "y2 = int(input('Nhap so nguyen y1:'))\n",
    "dis= math.sqrt(((x2-x1)**2) * ((y2-y1)**2))\n",
    "print(f\"khoang cach giua 2 diem A({x1},{x2}) va B({y1},{y2}) la {dis}\")"
   ]
  },
  {
   "cell_type": "markdown",
   "id": "dac6b33f-659f-4f5a-bb25-ee59023309d5",
   "metadata": {},
   "source": [
    "## Bai tap tren lop"
   ]
  },
  {
   "cell_type": "markdown",
   "id": "985a7039-4d45-442c-bf73-930eaafbe1fc",
   "metadata": {},
   "source": [
    "### Bai 1"
   ]
  },
  {
   "cell_type": "markdown",
   "id": "5401d2f5-cbc2-42e9-b364-01af405071bb",
   "metadata": {},
   "source": [
    "*Cach 1*"
   ]
  },
  {
   "cell_type": "code",
   "execution_count": 7,
   "id": "a2fe5c0e-2c93-4e0b-ac1b-782d160bacd7",
   "metadata": {},
   "outputs": [
    {
     "name": "stdin",
     "output_type": "stream",
     "text": [
      " 3\n",
      " 4\n",
      " 2\n"
     ]
    },
    {
     "name": "stdout",
     "output_type": "stream",
     "text": [
      "Max(3, 4, 2) = 4\n"
     ]
    }
   ],
   "source": [
    "a = int(input())\n",
    "b = int(input())\n",
    "c = int(input())\n",
    "# max a, b, c\n",
    "def max_fn(a, b):\n",
    "    return a if a > b else b\n",
    "    pass # max_fn\n",
    "vmax = max_fn(a, b)\n",
    "vmax = max_fn(vmax, c)\n",
    "# output\n",
    "print(\"Max(%d, %d, %d) = %d\"%(a, b, c, vmax))\n"
   ]
  },
  {
   "cell_type": "markdown",
   "id": "76958c37-d303-4651-b975-7b2e6d0f442c",
   "metadata": {},
   "source": [
    "*Cach 2*"
   ]
  },
  {
   "cell_type": "code",
   "execution_count": 8,
   "id": "f4260186-17cc-495f-813c-6aa829834e70",
   "metadata": {},
   "outputs": [
    {
     "name": "stdin",
     "output_type": "stream",
     "text": [
      "a= 3\n",
      "b= 4\n",
      "c= 5\n"
     ]
    },
    {
     "name": "stdout",
     "output_type": "stream",
     "text": [
      "Max(3, 4, 5) = 5\n"
     ]
    }
   ],
   "source": [
    "a = int(input('a='))\n",
    "b = int(input('b='))\n",
    "c = int(input('c='))\n",
    "vmax = max(a,b)\n",
    "vmax = max(vmax,c)\n",
    "print(\"Max(%d, %d, %d) = %d\"%(a, b, c, vmax))"
   ]
  },
  {
   "cell_type": "markdown",
   "id": "0ef891f1-383b-4d50-b2a9-a4aa2ad308c3",
   "metadata": {},
   "source": [
    "### Bai 2"
   ]
  },
  {
   "cell_type": "code",
   "execution_count": 5,
   "id": "255ddb23-287c-43bd-907a-b2b02f75add0",
   "metadata": {},
   "outputs": [
    {
     "ename": "IndentationError",
     "evalue": "expected an indented block after 'else' statement on line 13 (1271016107.py, line 14)",
     "output_type": "error",
     "traceback": [
      "  \u001b[36mCell\u001b[39m\u001b[36m \u001b[39m\u001b[32mIn[5]\u001b[39m\u001b[32m, line 14\u001b[39m\n\u001b[31m    \u001b[39m\u001b[31mnsol = 0\u001b[39m\n    ^\n\u001b[31mIndentationError\u001b[39m\u001b[31m:\u001b[39m expected an indented block after 'else' statement on line 13\n"
     ]
    }
   ],
   "source": [
    "# Input a, b with ax + b = 0\n",
    "a = float(input())\n",
    "b = int(input())\n",
    "# Process\n",
    "def solv1deg(a, b):\n",
    "    \"\"\"\n",
    "    Solve Equation ax + b = 0\n",
    "    \"\"\"\n",
    "    nsol, x = None, None\n",
    "    if a == 0:\n",
    "        if b == 0:\n",
    "            nsol = -1\n",
    "        else:\n",
    "        nsol = 0\n",
    "    else:\n",
    "        nsol = 1\n",
    "        x = -b / a\n",
    "    return nsol, x\n",
    "    pass # solv1deg\n",
    "nsol, x = solv1deg(a, b)\n",
    "# output\n",
    "if nsol == -1:\n",
    "    print(\"%.2fx + %.2f = 0: unlimited solutions\"%(a, b))\n",
    "elif nsol == 0:\n",
    "    print(\"%.2fx + %.2f = 0: no solution\"%(a, b))\n",
    "else:\n",
    "    print(\"%.2fx + %.2f = 0: x = %.2f\"%(a, b, x))"
   ]
  },
  {
   "cell_type": "code",
   "execution_count": null,
   "id": "589e79e2-6201-41fb-9be0-1ba72bcc096d",
   "metadata": {},
   "outputs": [],
   "source": []
  }
 ],
 "metadata": {
  "kernelspec": {
   "display_name": "Python 3 (ipykernel)",
   "language": "python",
   "name": "python3"
  },
  "language_info": {
   "codemirror_mode": {
    "name": "ipython",
    "version": 3
   },
   "file_extension": ".py",
   "mimetype": "text/x-python",
   "name": "python",
   "nbconvert_exporter": "python",
   "pygments_lexer": "ipython3",
   "version": "3.12.1"
  }
 },
 "nbformat": 4,
 "nbformat_minor": 5
}
