{
 "cells": [
  {
   "cell_type": "markdown",
   "id": "0e652200-04ad-4faf-ae65-660a5e7736e7",
   "metadata": {},
   "source": [
    "# **Bài tập thực hành 1**"
   ]
  },
  {
   "cell_type": "markdown",
   "id": "2e0d963f-f074-4099-9fd3-76ab70042fb3",
   "metadata": {},
   "source": [
    "## Bài tập minh họa"
   ]
  },
  {
   "cell_type": "code",
   "execution_count": 11,
   "id": "4f892c11-9202-4635-a360-8ba6fffac1a0",
   "metadata": {},
   "outputs": [
    {
     "name": "stdout",
     "output_type": "stream",
     "text": [
      "Overwriting InChuoi.py\n"
     ]
    }
   ],
   "source": [
    "%%writefile InChuoi.py\n",
    "print(\"Whoever is happy will make others happy too\");\n",
    "print(\"--Anne Frank\");\n"
   ]
  },
  {
   "cell_type": "code",
   "execution_count": 12,
   "id": "2eb8a6a9-efbf-472b-9344-4124f7339dce",
   "metadata": {},
   "outputs": [
    {
     "name": "stdout",
     "output_type": "stream",
     "text": [
      "Whoever is happy will make others happy too\n",
      "--Anne Frank\n"
     ]
    }
   ],
   "source": [
    "%run InChuoi.py"
   ]
  },
  {
   "cell_type": "markdown",
   "id": "1bb9537a-fe82-444b-9577-0a8fd5bec5a3",
   "metadata": {},
   "source": [
    "### Bai 2"
   ]
  },
  {
   "cell_type": "code",
   "execution_count": 3,
   "id": "21329d1c-3cc2-46cc-aec3-e4676b353903",
   "metadata": {},
   "outputs": [
    {
     "name": "stdout",
     "output_type": "stream",
     "text": [
      "Writing BieuThuc.py\n"
     ]
    }
   ],
   "source": [
    "%%writefile BieuThuc.py\n",
    "# Nhập dữ liệu\n",
    "a = int(input(\"Moi ban nhap so a: \"))\n",
    "b = int(input(\"Moi ban nhap so b: \"))\n",
    "# Xử lý\n",
    "kqCong = a + b\n",
    "kqTru = a - b\n",
    "kqNhan = a * b\n",
    "kqChiaNguyen = a // b\n",
    "kqDu= a % b\n",
    "kqChiaThuc = a / b\n",
    "# Xuất dữ liệu\n",
    "print(\"Cac ket qua tinh toan: \")\n",
    "print(\"%-5d + %5d = %5d\"%(a, b, kqCong))\n",
    "print(\"%-5d - %5d = %5d\"%(a, b, kqTru))\n",
    "print(\"%-5d * %5d = %5d\"%(a, b, kqNhan))\n",
    "print(\"%-5d / %5d = %5d\"%(a, b, kqChiaNguyen))\n",
    "print(\"%-5d / %5d = %5d\"%(a, b, kqDu))\n",
    "print(\"%-5d / %5d = %5.2f\"%(a, b, kqChiaThuc))"
   ]
  },
  {
   "cell_type": "code",
   "execution_count": 13,
   "id": "6ed4e479-16e6-496f-954e-8c695f3468dc",
   "metadata": {},
   "outputs": [
    {
     "name": "stdin",
     "output_type": "stream",
     "text": [
      "Moi ban nhap so a:  2\n",
      "Moi ban nhap so b:  23\n"
     ]
    },
    {
     "name": "stdout",
     "output_type": "stream",
     "text": [
      "Cac ket qua tinh toan: \n",
      "2     +    23 =    25\n",
      "2     -    23 =   -21\n",
      "2     *    23 =    46\n",
      "2     /    23 =     0\n",
      "2     /    23 =     2\n",
      "2     /    23 =  0.09\n"
     ]
    }
   ],
   "source": [
    "%run BieuThuc.py"
   ]
  },
  {
   "cell_type": "markdown",
   "id": "22b5f32c-0c1f-4d50-a7e7-cb403c999509",
   "metadata": {},
   "source": [
    "### Bai 3\n"
   ]
  },
  {
   "cell_type": "code",
   "execution_count": 17,
   "id": "0301969f-9ad5-4641-830f-4370c33bb06b",
   "metadata": {},
   "outputs": [
    {
     "name": "stdout",
     "output_type": "stream",
     "text": [
      "Writing SoSanh.py\n"
     ]
    }
   ],
   "source": [
    "%%writefile SoSanh.py\n",
    "# Nhập dữ liệu\n",
    "a = float(input(\"Moi ban nhap so a: \"))\n",
    "b = float(input(\"Moi ban nhap so b: \"))\n",
    "# Xử lý\n",
    "laNhoHon = (a < b)\n",
    "laNhoHonBang = (a <= b)\n",
    "laLonHon = (a > b)\n",
    "laLonHonBang = (a >= b)\n",
    "laBang = (a == b)\n",
    "laKhacNhau = (a != b)\n",
    "# Xuất dữ liệu\n",
    "print(\"Ket qua so sanh hai so thuc %.2f va %.2f:\"%(a, b))\n",
    "print(\"%-8.2f < %8.2f: %8s\"%(a, b, laNhoHon))\n",
    "print(\"%-8.2f <= %8.2f: %8s\"%(a, b, laNhoHonBang))\n",
    "print(\"%-8.2f > %8.2f: %8s\"%(a, b, laLonHon))\n",
    "print(\"%-8.2f >= %8.2f: %8s\"%(a, b, laLonHonBang))\n",
    "print(\"%-8.2f == %8.2f: %8s\"%(a, b, laBang))\n",
    "print(\"%-8.2f != %8.2f: %8s\"%(a, b, laKhacNhau))\n"
   ]
  },
  {
   "cell_type": "code",
   "execution_count": 19,
   "id": "922e0be4-8361-4fa2-8c81-542986f45df4",
   "metadata": {},
   "outputs": [
    {
     "name": "stdin",
     "output_type": "stream",
     "text": [
      "Moi ban nhap so a:  2\n",
      "Moi ban nhap so b:  4\n"
     ]
    },
    {
     "name": "stdout",
     "output_type": "stream",
     "text": [
      "Ket qua so sanh hai so thuc 2.00 va 4.00:\n",
      "2.00     <     4.00:     True\n",
      "2.00     <=     4.00:     True\n",
      "2.00     >     4.00:    False\n",
      "2.00     >=     4.00:    False\n",
      "2.00     ==     4.00:    False\n",
      "2.00     !=     4.00:     True\n"
     ]
    }
   ],
   "source": [
    "%run SoSanh.py"
   ]
  },
  {
   "cell_type": "markdown",
   "id": "a898ed71-805f-4be7-8ae1-83520616049c",
   "metadata": {},
   "source": [
    "### Bai 4"
   ]
  },
  {
   "cell_type": "code",
   "execution_count": 9,
   "id": "e6c3e961-dc2f-466f-a479-15b8b59895d5",
   "metadata": {},
   "outputs": [
    {
     "name": "stdout",
     "output_type": "stream",
     "text": [
      "Writing HamSo.py\n"
     ]
    }
   ],
   "source": [
    "%%writefile HamSo.py\n",
    "# Nạp thư viện\n",
    "import math\n",
    "# Nhập dữ liệu\n",
    "x = float(input(\"Moi ban nhap vao gia tri cua bien so x: \"))\n",
    "# Xử lý\n",
    "fx = x + math.pow(x, 5) / (1 * 2 * 3 * 4 * 5) + \\\n",
    "math.sqrt(abs(x)) / math.pow(x, 3.0 / 2)\n",
    "# Xuất dữ liệu\n",
    "print(\"Gia tri cua ham so f(%.2f) = %.2f.\"%(x, fx))"
   ]
  },
  {
   "cell_type": "code",
   "execution_count": null,
   "id": "d959191f-6f9a-4112-ac75-0c6e9b03180e",
   "metadata": {},
   "outputs": [],
   "source": [
    "%run InChuoi.py"
   ]
  },
  {
   "cell_type": "markdown",
   "id": "d0b05490-38d4-4152-8daa-80a7860b1afc",
   "metadata": {},
   "source": [
    "### Bai 5"
   ]
  },
  {
   "cell_type": "code",
   "execution_count": 1,
   "id": "c18e5833-49b7-4005-b809-3ae7df4b707b",
   "metadata": {},
   "outputs": [
    {
     "name": "stdout",
     "output_type": "stream",
     "text": [
      "Overwriting TongChuSo.py\n"
     ]
    }
   ],
   "source": [
    "%%writefile TongChuSo.py\n",
    "# Input: số nguyên n có 4 chữ số\n",
    "n = int(input(\"Moi ban nhap so nguyen n (co bon chu so): \"))\n",
    "\n",
    "# Tách các chữ số\n",
    "a = n // 1000\n",
    "b = (n // 100) % 10\n",
    "c = (n // 10) % 10\n",
    "d = n % 10\n",
    "\n",
    "tong = a + b + c + d\n",
    "\n",
    "# Output đúng format đề bài\n",
    "print(f\"{n} = {a} + {b} + {c} + {d} = {tong}.\")"
   ]
  },
  {
   "cell_type": "code",
   "execution_count": 2,
   "id": "ef4f2ded-3612-404e-95e3-0859d703e1d9",
   "metadata": {},
   "outputs": [
    {
     "name": "stdout",
     "output_type": "stream",
     "text": [
      "Writing TongChuSo.in0\n"
     ]
    }
   ],
   "source": [
    "%%writefile TongChuSo.in0\n",
    "1234\n"
   ]
  },
  {
   "cell_type": "code",
   "execution_count": 3,
   "id": "af58beeb-6c26-4e75-a244-aa39f200fe39",
   "metadata": {},
   "outputs": [
    {
     "name": "stdout",
     "output_type": "stream",
     "text": [
      "Moi ban nhap so nguyen n (co bon chu so): 1234 = 1 + 2 + 3 + 4 = 10.\n"
     ]
    }
   ],
   "source": [
    "!python TongChuSo.py < TongChuSo.in0\n"
   ]
  },
  {
   "cell_type": "markdown",
   "id": "97d3a3db-ce1c-4ad9-8c86-c66fda9ec772",
   "metadata": {},
   "source": [
    "## Bài tập thực hành"
   ]
  },
  {
   "cell_type": "markdown",
   "id": "0de127b7-7873-489e-8822-a5c54af14e8d",
   "metadata": {},
   "source": [
    "### Bài 1"
   ]
  },
  {
   "cell_type": "code",
   "execution_count": 4,
   "id": "f95b2e22-7d1b-485c-a2e8-0335424bd609",
   "metadata": {},
   "outputs": [
    {
     "name": "stdout",
     "output_type": "stream",
     "text": [
      "Writing InNhan.py\n"
     ]
    }
   ],
   "source": [
    "%%writefile InNhan.py\n",
    "info = (\"Dai hoc UEH\",\"CNTT\")\n",
    "width = 50\n",
    "print ('*' * 50)\n",
    "print (f\"*{'Truong: + {info[0]}':<{width-4}} *\")\n",
    "print (f\"*{'Khoa: + {info[0]}':<{width-4}} *\")\n",
    "print (f\"*{'Ho ten: + {info[0]}':<{width-4}} *\")\n",
    "print ('*' * 50)\n"
   ]
  },
  {
   "cell_type": "code",
   "execution_count": 13,
   "id": "a4ba1a58-009d-4f9a-8e38-53a24ce0c184",
   "metadata": {},
   "outputs": [
    {
     "name": "stdout",
     "output_type": "stream",
     "text": [
      "**************************************************\n",
      "*Truong: + {info[0]}                            *\n",
      "*Khoa: + {info[0]}                              *\n",
      "*Ho ten: + {info[0]}                            *\n",
      "**************************************************\n"
     ]
    }
   ],
   "source": [
    "%run InNhan.py"
   ]
  },
  {
   "cell_type": "markdown",
   "id": "1ae296bc-acaf-4ee8-864f-12b30dc619f1",
   "metadata": {},
   "source": [
    "### Bài 2"
   ]
  },
  {
   "cell_type": "code",
   "execution_count": 5,
   "id": "7c3f5892-ff48-426a-b0f3-c0c118bf3a24",
   "metadata": {},
   "outputs": [
    {
     "name": "stdout",
     "output_type": "stream",
     "text": [
      "Writing HinhTron.py\n"
     ]
    }
   ],
   "source": [
    "%%writefile HinhTron.py\n",
    "R = int(input('Nhap ban kinh R:'))\n",
    "pi= float(3.14)\n",
    "S = pi*(R**2)\n",
    "P = 2*pi*R\n",
    "print('Dien tich S:', round(S,1))\n",
    "print('Chu vi P:', round(P,1))\n"
   ]
  },
  {
   "cell_type": "code",
   "execution_count": 14,
   "id": "9e718364-db55-42cf-837d-6bef6d954819",
   "metadata": {},
   "outputs": [
    {
     "name": "stdin",
     "output_type": "stream",
     "text": [
      "Nhap ban kinh R: 2\n"
     ]
    },
    {
     "name": "stdout",
     "output_type": "stream",
     "text": [
      "Dien tich S: 12.6\n",
      "Chu vi P: 12.6\n"
     ]
    }
   ],
   "source": [
    "%run HinhTron.py\n"
   ]
  },
  {
   "cell_type": "markdown",
   "id": "dae11c04-2f3d-4ca5-9198-192cf95dded4",
   "metadata": {},
   "source": [
    "### Bai 3"
   ]
  },
  {
   "cell_type": "code",
   "execution_count": 6,
   "id": "466ffe97-9722-4fee-bbfd-58e91849b45f",
   "metadata": {},
   "outputs": [
    {
     "name": "stdout",
     "output_type": "stream",
     "text": [
      "Writing DoiSangGiay.py\n"
     ]
    }
   ],
   "source": [
    "%%writefile DoiSangGiay.py\n",
    "h = int(input('Nhap so gio:'))\n",
    "m = int(input('Nhap so phut:'))\n",
    "s = int(input('Nhap so giay:'))\n",
    "total = h*3600 + m*60 + s\n",
    "print(f\"Tong so giay cua {h}:{m}:{s} la {total} giay\") "
   ]
  },
  {
   "cell_type": "code",
   "execution_count": 15,
   "id": "8ab07e05-90e4-446d-934f-4a0a730bcab2",
   "metadata": {},
   "outputs": [
    {
     "name": "stdin",
     "output_type": "stream",
     "text": [
      "Nhap so gio: 222\n",
      "Nhap so phut: 2\n",
      "Nhap so giay: 2\n"
     ]
    },
    {
     "name": "stdout",
     "output_type": "stream",
     "text": [
      "Tong so giay cua 222:2:2 la 799322 giay\n"
     ]
    }
   ],
   "source": [
    "%run DoiSangGiay.py"
   ]
  },
  {
   "cell_type": "markdown",
   "id": "c8717094-b2a2-4966-adf3-a058f2b43a69",
   "metadata": {},
   "source": [
    "### Bai 4\n"
   ]
  },
  {
   "cell_type": "code",
   "execution_count": 8,
   "id": "3d4fe861-f2d5-458b-a8c5-4477a1581023",
   "metadata": {},
   "outputs": [
    {
     "name": "stdout",
     "output_type": "stream",
     "text": [
      "Writing DoiSangGioPhutGiay.py\n"
     ]
    }
   ],
   "source": [
    "%%writefile DoiSangGioPhutGiay.py\n",
    "total = int(input('Nhap vao tong so giay:'))\n",
    "h = total//3600\n",
    "total_h = total - 3600*h\n",
    "m = (total_h)//60\n",
    "s = total - h*3600 - m*60\n",
    "print(f\"{total} giay co dang {h}:{m}:{s}\")\n"
   ]
  },
  {
   "cell_type": "code",
   "execution_count": 16,
   "id": "50bde520-9190-4132-8f9e-e1568d9b030f",
   "metadata": {},
   "outputs": [
    {
     "name": "stdin",
     "output_type": "stream",
     "text": [
      "Nhap vao tong so giay: 2\n"
     ]
    },
    {
     "name": "stdout",
     "output_type": "stream",
     "text": [
      "2 giay co dang 0:0:2\n"
     ]
    }
   ],
   "source": [
    "%run DoiSangGioPhutGiay.py"
   ]
  },
  {
   "cell_type": "markdown",
   "id": "99542d51-b045-4681-ad89-587e6682e9ec",
   "metadata": {},
   "source": [
    "### Bai 5"
   ]
  },
  {
   "cell_type": "code",
   "execution_count": 9,
   "id": "8dd329e3-f8ab-43fe-867a-afcd28d55166",
   "metadata": {},
   "outputs": [
    {
     "name": "stdout",
     "output_type": "stream",
     "text": [
      "Writing DienTichTamGiac.py\n"
     ]
    }
   ],
   "source": [
    "%%writefile DienTichTamGiac.py\n",
    "import math\n",
    "a = int(input('Nhap do dai canh a:'))\n",
    "b = int(input('Nhap do dai canh b:'))\n",
    "c = int(input('Nhap do dai canh c:'))\n",
    "p = (a+b+c)/2\n",
    "S = (math.sqrt(p*(p-a)*(p-b)*(p-c)))\n",
    "print('Dien tich tam giac S=',f\"{S:.2f}\")\n"
   ]
  },
  {
   "cell_type": "code",
   "execution_count": 17,
   "id": "ad44ade8-5116-417b-afcd-a4779ee87440",
   "metadata": {},
   "outputs": [
    {
     "name": "stdin",
     "output_type": "stream",
     "text": [
      "Nhap do dai canh a: 2\n",
      "Nhap do dai canh b: 2\n",
      "Nhap do dai canh c: 3\n"
     ]
    },
    {
     "name": "stdout",
     "output_type": "stream",
     "text": [
      "Dien tich tam giac S= 1.98\n"
     ]
    }
   ],
   "source": [
    " %run  DienTichTamGiac.py"
   ]
  },
  {
   "cell_type": "markdown",
   "id": "f3f4a34d-69ab-448b-a4fd-076d4e2605b7",
   "metadata": {},
   "source": [
    "### Bai 6\n"
   ]
  },
  {
   "cell_type": "code",
   "execution_count": 19,
   "id": "fe335794-433d-4979-a5c3-479b93b8fad8",
   "metadata": {},
   "outputs": [
    {
     "name": "stdout",
     "output_type": "stream",
     "text": [
      "Writing TinhMu.py\n"
     ]
    }
   ],
   "source": [
    "%%writefile TinhMu.py\n",
    "a = float(input('Nhap so thuc a:'))\n",
    "n = int(input('Nhap so mu n:'))\n",
    "ketqua = a**n\n",
    "print(f\"Ket qua {a:.0f}^{n} = {round(ketqua)}\")"
   ]
  },
  {
   "cell_type": "code",
   "execution_count": 20,
   "id": "3e517b15-690c-4216-91e2-dffff76fed25",
   "metadata": {},
   "outputs": [
    {
     "name": "stdin",
     "output_type": "stream",
     "text": [
      "Nhap so thuc a: 2\n",
      "Nhap so mu n: 4\n"
     ]
    },
    {
     "name": "stdout",
     "output_type": "stream",
     "text": [
      "Ket qua 2^4 = 16\n"
     ]
    }
   ],
   "source": [
    "%run TinhMu.py"
   ]
  },
  {
   "cell_type": "markdown",
   "id": "e7fa62a2-38ce-44b1-82dc-64ee75518f50",
   "metadata": {},
   "source": [
    "### Bai 7"
   ]
  },
  {
   "cell_type": "code",
   "execution_count": 22,
   "id": "ed1d7dfd-adaa-4b09-840d-671eb97fe694",
   "metadata": {},
   "outputs": [
    {
     "name": "stdout",
     "output_type": "stream",
     "text": [
      "Writing DaoSon.py\n"
     ]
    }
   ],
   "source": [
    "%%writefile DaoSon.py\n",
    "x = int(input('Nhap so nguyen x:'))\n",
    "y = int(str(x)[::-1])\n",
    "print(f\"y={y}\")"
   ]
  },
  {
   "cell_type": "code",
   "execution_count": 23,
   "id": "9f484965-735c-450e-986a-b2c37d8d98a1",
   "metadata": {},
   "outputs": [
    {
     "name": "stdin",
     "output_type": "stream",
     "text": [
      "Nhap so nguyen x: 3\n"
     ]
    },
    {
     "name": "stdout",
     "output_type": "stream",
     "text": [
      "y=3\n"
     ]
    }
   ],
   "source": [
    "%run DaoSon.py"
   ]
  },
  {
   "cell_type": "markdown",
   "id": "18427594-1ceb-4605-9673-0930906887a2",
   "metadata": {},
   "source": [
    "### Bai 8"
   ]
  },
  {
   "cell_type": "code",
   "execution_count": 24,
   "id": "b846814a-6557-493b-8f87-52b0cdb689bc",
   "metadata": {},
   "outputs": [
    {
     "name": "stdout",
     "output_type": "stream",
     "text": [
      "Overwriting DoSangRadian.py\n"
     ]
    }
   ],
   "source": [
    "%%writefile DoSangRadian.py\n",
    "import math\n",
    "do = int(input('Nhap so do:'))\n",
    "rad = (do * math.pi)/180\n",
    "print(f\"Doi thanh radian: {rad:.4f} radian\")\n"
   ]
  },
  {
   "cell_type": "code",
   "execution_count": 25,
   "id": "f866746c-2e6b-44bd-ac18-2d5569cbebad",
   "metadata": {},
   "outputs": [
    {
     "name": "stdin",
     "output_type": "stream",
     "text": [
      "Nhap so do: 2\n"
     ]
    },
    {
     "name": "stdout",
     "output_type": "stream",
     "text": [
      "Doi thanh radian: 0.0349 radian\n"
     ]
    }
   ],
   "source": [
    "%run DoSangRadian.py"
   ]
  },
  {
   "cell_type": "markdown",
   "id": "46d5b514-cb5f-4225-9d20-5df43e5fbf16",
   "metadata": {},
   "source": [
    "### Bai 9"
   ]
  },
  {
   "cell_type": "code",
   "execution_count": 11,
   "id": "8245729c-418f-4548-8066-784d18cca6ab",
   "metadata": {},
   "outputs": [
    {
     "name": "stdout",
     "output_type": "stream",
     "text": [
      "Writing HamSo1.py\n"
     ]
    }
   ],
   "source": [
    "%%writefile HamSo1.py\n",
    "import math\n",
    "x = float(input('Nhap so thuc x:'))\n",
    "#y1 co dieu kien : x>=0\n",
    "y1 = 4*(x**2 + 10*x*math.sqrt(x) + 3*x +1)\n",
    "if x < 0 :\n",
    "    print(f\"y1 khong the xac dinh boi x<0\")\n",
    "else :\n",
    "    print(f\"y1={y1:.2f}\")\n",
    "#y2 co dieu kien: demoninator !=0\n",
    "numerator = math.sin(math.pi*(x**2)) + math.sqrt(x**2 + 1)\n",
    "denominator = math.exp(2*x) + math.cos(math.pi/4 * x)\n",
    "y2 = numerator/denominator\n",
    "if denominator==0 :\n",
    "    print(f\"y2 khong the xac dinh boi demoninatior = 0\")\n",
    "else :\n",
    "    print(f\"y2={y2:.2f}\")"
   ]
  },
  {
   "cell_type": "code",
   "execution_count": 26,
   "id": "65eedf8f-dd39-4bca-a702-ef6429ca5ff4",
   "metadata": {},
   "outputs": [
    {
     "name": "stdin",
     "output_type": "stream",
     "text": [
      "Nhap so thuc x: 2\n"
     ]
    },
    {
     "name": "stdout",
     "output_type": "stream",
     "text": [
      "y1=157.14\n",
      "y2=0.04\n"
     ]
    }
   ],
   "source": [
    "%run HamSo1.py"
   ]
  },
  {
   "cell_type": "markdown",
   "id": "78c4df83-ae90-4d39-8615-03b55843544c",
   "metadata": {},
   "source": [
    "### Bai 10"
   ]
  },
  {
   "cell_type": "code",
   "execution_count": 12,
   "id": "6220ba0b-6ac1-4f59-bfe4-e0125e3f3800",
   "metadata": {},
   "outputs": [
    {
     "name": "stdout",
     "output_type": "stream",
     "text": [
      "Writing KhoangCach.py\n"
     ]
    }
   ],
   "source": [
    "%%writefile KhoangCach.py\n",
    "import math\n",
    "x1 = int(input('Nhap so nguyen x1:'))\n",
    "x2 = int(input('Nhap so nguyen x2:'))\n",
    "y1 = int(input('Nhap so nguyen y1:'))\n",
    "y2 = int(input('Nhap so nguyen y1:'))\n",
    "dis= math.sqrt(((x2-x1)**2) * ((y2-y1)**2))\n",
    "print(f\"khoang cach giua 2 diem A({x1},{x2}) va B({y1},{y2}) la {dis}\")"
   ]
  },
  {
   "cell_type": "code",
   "execution_count": 27,
   "id": "8eee601d-d9f4-4ec6-909d-cc389c5526a7",
   "metadata": {},
   "outputs": [
    {
     "name": "stdin",
     "output_type": "stream",
     "text": [
      "Nhap so nguyen x1: 2\n",
      "Nhap so nguyen x2: 4\n",
      "Nhap so nguyen y1: 4\n",
      "Nhap so nguyen y1: 2\n"
     ]
    },
    {
     "name": "stdout",
     "output_type": "stream",
     "text": [
      "khoang cach giua 2 diem A(2,4) va B(4,2) la 4.0\n"
     ]
    }
   ],
   "source": [
    "%run KhoangCach.py"
   ]
  },
  {
   "cell_type": "markdown",
   "id": "dac6b33f-659f-4f5a-bb25-ee59023309d5",
   "metadata": {},
   "source": [
    "## Bai tap tren lop"
   ]
  },
  {
   "cell_type": "markdown",
   "id": "985a7039-4d45-442c-bf73-930eaafbe1fc",
   "metadata": {},
   "source": [
    "### Bai 1"
   ]
  },
  {
   "cell_type": "markdown",
   "id": "5401d2f5-cbc2-42e9-b364-01af405071bb",
   "metadata": {},
   "source": [
    "*Cach 1*"
   ]
  },
  {
   "cell_type": "code",
   "execution_count": 1,
   "id": "a2fe5c0e-2c93-4e0b-ac1b-782d160bacd7",
   "metadata": {},
   "outputs": [
    {
     "name": "stdout",
     "output_type": "stream",
     "text": [
      "Writing Max3Nump.py\n"
     ]
    }
   ],
   "source": [
    "%%writefile Max3Nump.py      \n",
    "a = int(input())\n",
    "b = int(input())\n",
    "c = int(input())\n",
    "# max a, b, c\n",
    "def max_fn(a, b):\n",
    "    return a if a > b else b\n",
    "    pass # max_fn\n",
    "vmax = max_fn(a, b)\n",
    "vmax = max_fn(vmax, c)\n",
    "# output\n",
    "print(\"Max(%d, %d, %d) = %d\"%(a, b, c, vmax))\n"
   ]
  },
  {
   "cell_type": "markdown",
   "id": "76958c37-d303-4651-b975-7b2e6d0f442c",
   "metadata": {},
   "source": [
    "*Cach 2*"
   ]
  },
  {
   "cell_type": "markdown",
   "id": "162ffb6f-54b2-4db5-a565-8cd9661f9277",
   "metadata": {},
   "source": [
    "a = int(input('a='))\n",
    "b = int(input('b='))\n",
    "c = int(input('c='))\n",
    "vmax = max(a,b)\n",
    "vmax = max(vmax,c)\n",
    "print(\"Max(%d, %d, %d) = %d\"%(a, b, c, vmax))"
   ]
  },
  {
   "cell_type": "markdown",
   "id": "a5c657fd-ae45-4460-9f4b-63ccc91b08cd",
   "metadata": {},
   "source": [
    "### Bai 2"
   ]
  },
  {
   "cell_type": "code",
   "execution_count": 6,
   "id": "30d007c3-3b81-46bd-babe-cc7daa43e29e",
   "metadata": {},
   "outputs": [
    {
     "name": "stdout",
     "output_type": "stream",
     "text": [
      "Writing Sort3Num.py\n"
     ]
    }
   ],
   "source": [
    "%%writefile Sort3Num.py\n",
    "# Input a, b, c\n",
    "a = int(input())\n",
    "b = int(input())\n",
    "c = int(input())\n",
    "# max a, b, c\n",
    "def max3(a, b, c):\n",
    "    vmax = a if a > b else b\n",
    "    if vmax < c:\n",
    "        vmax = c\n",
    "    return vmax\n",
    "    pass # max3\n",
    "vmax = max3(a, b, c)\n",
    "# output\n",
    "print(\"Max(%d, %d, %d) = %d\"%(a, b, c, vmax))"
   ]
  },
  {
   "cell_type": "markdown",
   "id": "0ef891f1-383b-4d50-b2a9-a4aa2ad308c3",
   "metadata": {},
   "source": [
    "### Bai 3"
   ]
  },
  {
   "cell_type": "code",
   "execution_count": 4,
   "id": "255ddb23-287c-43bd-907a-b2b02f75add0",
   "metadata": {},
   "outputs": [
    {
     "name": "stdout",
     "output_type": "stream",
     "text": [
      "Writing Solve1Deg.py\n"
     ]
    }
   ],
   "source": [
    "%%writefile Solve1Deg.py\n",
    "# Input a, b with ax + b = 0\n",
    "a = float(input())\n",
    "b = int(input())\n",
    "# Process\n",
    "def solv1deg(a, b):\n",
    "    \"\"\"\n",
    "    Solve Equation ax + b = 0\n",
    "    \"\"\"\n",
    "    nsol, x = None, None\n",
    "    if a == 0:\n",
    "        if b == 0:\n",
    "            nsol = -1\n",
    "        else:\n",
    "            nsol = 0\n",
    "    else:\n",
    "        nsol = 1\n",
    "        x = -b / a\n",
    "    return nsol, x\n",
    "    pass # solv1deg\n",
    "nsol, x = solv1deg(a, b)\n",
    "# output\n",
    "if nsol == -1:\n",
    "    print(\"%.2fx + %.2f = 0: unlimited solutions\"%(a, b))\n",
    "elif nsol == 0:\n",
    "    print(\"%.2fx + %.2f = 0: no solution\"%(a, b))\n",
    "else:\n",
    "    print(\"%.2fx + %.2f = 0: x = %.2f\"%(a, b, x))"
   ]
  },
  {
   "cell_type": "markdown",
   "id": "37920b02-8e02-40a7-abf9-c25bf74b32ad",
   "metadata": {},
   "source": [
    "### Bai 4"
   ]
  },
  {
   "cell_type": "code",
   "execution_count": 9,
   "id": "4cb2f1a0-e592-4254-a899-bbd77504aa27",
   "metadata": {},
   "outputs": [
    {
     "name": "stdout",
     "output_type": "stream",
     "text": [
      "Writing TotalDayYear.py\n"
     ]
    }
   ],
   "source": [
    "%%writefile TotalDayYear.py\n",
    "# Input\n",
    "y = int(input())\n",
    "# Process\n",
    "def isleap(y):\n",
    "    ans = False\n",
    "    if y%400==0 or (y%4==0 and y%100 !=0):\n",
    "        ans = True\n",
    "    return ans\n",
    "    pass # IsLeap\n",
    "def daysyear(y):\n",
    "    ans = 365\n",
    "    if isleap(y):\n",
    "        ans = 366\n",
    "    return ans\n",
    "    pass # daysyear\n",
    "ans = daysyear(y)\n",
    "# output\n",
    "print(\"%d\"%(ans))"
   ]
  },
  {
   "cell_type": "code",
   "execution_count": 3,
   "id": "7b980365-06c1-4859-a60d-4031d7755124",
   "metadata": {},
   "outputs": [
    {
     "name": "stdout",
     "output_type": "stream",
     "text": [
      "Writing TotalDayYear.in0\n"
     ]
    }
   ],
   "source": [
    "%%writefile TotalDayYear.in0\n",
    "1992"
   ]
  },
  {
   "cell_type": "code",
   "execution_count": 4,
   "id": "9bf89d37-7de3-4a30-890c-32ea935a80c6",
   "metadata": {},
   "outputs": [
    {
     "name": "stdout",
     "output_type": "stream",
     "text": [
      "Writing TotalDayYear.in1\n"
     ]
    }
   ],
   "source": [
    "%%writefile TotalDayYear.in1\n",
    "2000"
   ]
  },
  {
   "cell_type": "code",
   "execution_count": 5,
   "id": "270133c2-c569-44b4-881a-ce7df0e44c7a",
   "metadata": {},
   "outputs": [
    {
     "name": "stdout",
     "output_type": "stream",
     "text": [
      "Writing TotalDayYear.in2\n"
     ]
    }
   ],
   "source": [
    "%%writefile TotalDayYear.in2\n",
    "1997"
   ]
  },
  {
   "cell_type": "code",
   "execution_count": 6,
   "id": "beb97350-b593-4f37-8d76-a767b6e23d08",
   "metadata": {},
   "outputs": [
    {
     "name": "stdout",
     "output_type": "stream",
     "text": [
      "Overwriting TotalDayYear.in2\n"
     ]
    }
   ],
   "source": [
    "%%writefile TotalDayYear.in2\n",
    "1997"
   ]
  },
  {
   "cell_type": "code",
   "execution_count": 10,
   "id": "80c84774-4c13-4d4d-b19c-460c84ccbe7c",
   "metadata": {},
   "outputs": [
    {
     "name": "stdout",
     "output_type": "stream",
     "text": [
      "366\n",
      "366\n",
      "365\n"
     ]
    }
   ],
   "source": [
    "!python TotalDayYear.py < TotalDayYear.in0\n",
    "!python TotalDayYear.py < TotalDayYear.in1\n",
    "!python TotalDayYear.py < TotalDayYear.in2\n"
   ]
  },
  {
   "cell_type": "markdown",
   "id": "a6236e12-b872-4c82-a62c-7f788bdf060b",
   "metadata": {},
   "source": [
    "### Bai 5"
   ]
  },
  {
   "cell_type": "code",
   "execution_count": 11,
   "id": "ef9a3782-ab4d-4eae-bf8a-dbdb9f88352d",
   "metadata": {},
   "outputs": [
    {
     "name": "stdout",
     "output_type": "stream",
     "text": [
      "Writing Calculation.py\n"
     ]
    }
   ],
   "source": [
    "%%writefile Calculation.py\n",
    "# Input: two numbers a, b and an operator op (+, -, *, /)\n",
    "a = float(input())\n",
    "b = float(input())\n",
    "op = input().strip()\n",
    "\n",
    "def calculation(a, b, op):\n",
    "    \"\"\"\n",
    "    Perform calculation: a (op) b\n",
    "    \"\"\"\n",
    "    if op == '+':\n",
    "        return \"%.2f + %.2f = %.2f\" % (a, b, a + b)\n",
    "    elif op == '-':\n",
    "        return \"%.2f - %.2f = %.2f\" % (a, b, a - b)\n",
    "    elif op == '*':\n",
    "        return \"%.2f * %.2f = %.2f\" % (a, b, a * b)\n",
    "    elif op == '/':\n",
    "        if b == 0:\n",
    "            return \"%.2f / %.2f = Cannot divide by zero\" % (a, b)\n",
    "        else:\n",
    "            return \"%.2f / %.2f = %.2f\" % (a, b, a / b)\n",
    "    else:\n",
    "        return \"Invalid operator\"\n",
    "\n",
    "# Output\n",
    "print(calculation(a, b, op))"
   ]
  },
  {
   "cell_type": "code",
   "execution_count": 12,
   "id": "dbf0d61a-1584-413f-bb4f-32d17a1f135a",
   "metadata": {},
   "outputs": [
    {
     "name": "stdout",
     "output_type": "stream",
     "text": [
      "Writing Calculation.in0\n"
     ]
    }
   ],
   "source": [
    "%%writefile Calculation.in0\n",
    "8\n",
    "3\n",
    "+\n"
   ]
  },
  {
   "cell_type": "code",
   "execution_count": 13,
   "id": "ab7b3e0a-c56f-4e2f-ade6-4ada08b56053",
   "metadata": {},
   "outputs": [
    {
     "name": "stdout",
     "output_type": "stream",
     "text": [
      "Writing Calculation.in1\n"
     ]
    }
   ],
   "source": [
    "%%writefile Calculation.in1\n",
    "8\n",
    "3\n",
    "-\n"
   ]
  },
  {
   "cell_type": "code",
   "execution_count": 14,
   "id": "758990bd-b57d-4c1e-b0a5-f7db0f3a86da",
   "metadata": {},
   "outputs": [
    {
     "name": "stdout",
     "output_type": "stream",
     "text": [
      "Writing Calculation.in2\n"
     ]
    }
   ],
   "source": [
    "%%writefile Calculation.in2\n",
    "8\n",
    "3\n",
    "*\n"
   ]
  },
  {
   "cell_type": "code",
   "execution_count": 15,
   "id": "6700e458-09cc-45aa-bb30-9f94acb78db7",
   "metadata": {},
   "outputs": [
    {
     "name": "stdout",
     "output_type": "stream",
     "text": [
      "Writing Calculation.in3\n"
     ]
    }
   ],
   "source": [
    "%%writefile Calculation.in3\n",
    "8\n",
    "0\n",
    "/\n"
   ]
  },
  {
   "cell_type": "code",
   "execution_count": 16,
   "id": "406db87c-4038-4929-94a1-2c7e1cbf7253",
   "metadata": {},
   "outputs": [
    {
     "name": "stdout",
     "output_type": "stream",
     "text": [
      "Writing Calculation.in4\n"
     ]
    }
   ],
   "source": [
    "%%writefile Calculation.in4\n",
    "8\n",
    "2\n",
    "/\n"
   ]
  },
  {
   "cell_type": "code",
   "execution_count": 17,
   "id": "d5f1f2e2-6301-4a57-8a9e-1a15b4bd2d57",
   "metadata": {},
   "outputs": [
    {
     "name": "stdout",
     "output_type": "stream",
     "text": [
      "8.00 + 3.00 = 11.00\n",
      "8.00 - 3.00 = 5.00\n",
      "8.00 * 3.00 = 24.00\n",
      "8.00 / 0.00 = Cannot divide by zero\n",
      "8.00 / 2.00 = 4.00\n"
     ]
    }
   ],
   "source": [
    "!python Calculation.py < Calculation.in0\n",
    "!python Calculation.py < Calculation.in1\n",
    "!python Calculation.py < Calculation.in2\n",
    "!python Calculation.py < Calculation.in3\n",
    "!python Calculation.py < Calculation.in4\n"
   ]
  },
  {
   "cell_type": "markdown",
   "id": "c56e7bda-f240-4a87-9cc4-c0aec9f1b211",
   "metadata": {},
   "source": [
    "### Bai 6"
   ]
  },
  {
   "cell_type": "code",
   "execution_count": 9,
   "id": "bd99c0c5-0b3b-4a12-a37d-02c506c5a3b0",
   "metadata": {},
   "outputs": [
    {
     "name": "stdout",
     "output_type": "stream",
     "text": [
      "Overwriting ElectricPrice.py\n"
     ]
    }
   ],
   "source": [
    "#xem lại\n",
    "%%writefile ElectricPrice.py\n",
    "# Input: old_index, new_index (electric meter readings)\n",
    "old_idx = int(input())\n",
    "new_idx = int(input())\n",
    "\n",
    "# Bảng giá (VND/kWh) theo bậc thang\n",
    "RATES = [\n",
    "    (100, 1242),   # 0–100\n",
    "    (50, 1304),    # 101–150\n",
    "    (50, 1651),    # 151–200\n",
    "    (100, 1788),   # 201–300\n",
    "    (100, 1912),   # 301–400\n",
    "    (float('inf'), 1962)  # 401+\n",
    "]\n",
    "\n",
    "def calc_bill(kwh):\n",
    "    \"\"\"Tính tiền điện theo bậc thang cho kWh >= 0, trả về tổng tiền (VND).\"\"\"\n",
    "    total = 0\n",
    "    remaining = kwh\n",
    "    for block_kwh, price in RATES:\n",
    "        take = min(remaining, block_kwh)\n",
    "        if take <= 0:\n",
    "            break\n",
    "        total += take * price\n",
    "        remaining -= take\n",
    "    return total\n",
    "\n",
    "# Xử lý\n",
    "if new_idx < old_idx:\n",
    "    print(\"Input error: new index < old index\")\n",
    "else:\n",
    "    used = new_idx - old_idx\n",
    "    money = calc_bill(used)*1.1\n",
    "    # Output\n",
    "    print(f\"Old={old_idx}, New={new_idx}, kWh={used}, Amount={money} VND\")\n"
   ]
  },
  {
   "cell_type": "code",
   "execution_count": 10,
   "id": "99b96016-a059-474a-ac2c-6563bbdc4e62",
   "metadata": {},
   "outputs": [
    {
     "name": "stdout",
     "output_type": "stream",
     "text": [
      "Overwriting ElectricPrice.in0\n"
     ]
    }
   ],
   "source": [
    "%%writefile ElectricPrice.in0\n",
    "1000\n",
    "1080\n"
   ]
  },
  {
   "cell_type": "code",
   "execution_count": 11,
   "id": "60b2669f-b43b-49d1-9070-c54c1cbc7615",
   "metadata": {},
   "outputs": [
    {
     "name": "stdout",
     "output_type": "stream",
     "text": [
      "Overwriting ElectricPrice.in1\n"
     ]
    }
   ],
   "source": [
    "%%writefile ElectricPrice.in1\n",
    "2500\n",
    "2650\n"
   ]
  },
  {
   "cell_type": "code",
   "execution_count": 12,
   "id": "a7619b7f-82b2-4a34-b485-498c9899ffee",
   "metadata": {},
   "outputs": [
    {
     "name": "stdout",
     "output_type": "stream",
     "text": [
      "Overwriting ElectricPrice.in2\n"
     ]
    }
   ],
   "source": [
    "%%writefile ElectricPrice.in2\n",
    "5000\n",
    "5350\n"
   ]
  },
  {
   "cell_type": "code",
   "execution_count": 13,
   "id": "50472c2d-9132-491c-8161-995ae4e8f88a",
   "metadata": {},
   "outputs": [
    {
     "name": "stdout",
     "output_type": "stream",
     "text": [
      "Overwriting ElectricPrice.in3\n"
     ]
    }
   ],
   "source": [
    "%%writefile ElectricPrice.in3\n",
    "1200\n",
    "1705\n"
   ]
  },
  {
   "cell_type": "code",
   "execution_count": 14,
   "id": "2ca9cf41-ce0c-44c3-9a2b-d102c5ac7c14",
   "metadata": {},
   "outputs": [
    {
     "name": "stdout",
     "output_type": "stream",
     "text": [
      "Overwriting ElectricPrice.in_err\n"
     ]
    }
   ],
   "source": [
    "%%writefile ElectricPrice.in_err  \n",
    "500\n",
    "400\n"
   ]
  },
  {
   "cell_type": "code",
   "execution_count": 15,
   "id": "bec1da64-1114-4c3f-8892-a94fe4692bcb",
   "metadata": {},
   "outputs": [
    {
     "name": "stdout",
     "output_type": "stream",
     "text": [
      "Old=1000, New=1080, kWh=80, Amount=109296.00000000001 VND\n",
      "Old=2500, New=2650, kWh=150, Amount=208340.00000000003 VND\n",
      "Old=5000, New=5350, kWh=350, Amount=600985.0 VND\n",
      "Old=1200, New=1705, kWh=505, Amount=932756.0000000001 VND\n",
      "Input error: new index < old index\n"
     ]
    }
   ],
   "source": [
    "!python ElectricPrice.py < ElectricPrice.in0\n",
    "!python ElectricPrice.py < ElectricPrice.in1\n",
    "!python ElectricPrice.py < ElectricPrice.in2\n",
    "!python ElectricPrice.py < ElectricPrice.in3\n",
    "!python ElectricPrice.py < ElectricPrice.in_err\n"
   ]
  },
  {
   "cell_type": "markdown",
   "id": "e50bd388-add8-4e4b-a69d-efb51ba76b2b",
   "metadata": {},
   "source": [
    "### Bai 7"
   ]
  },
  {
   "cell_type": "code",
   "execution_count": 16,
   "id": "d7757277-47d9-4d53-93e4-e1636efa0c0d",
   "metadata": {},
   "outputs": [
    {
     "name": "stdout",
     "output_type": "stream",
     "text": [
      "Writing PreviousDay.py\n"
     ]
    }
   ],
   "source": [
    "%%writefile PreviousDay.py\n",
    "# Input: d, m, y (3 dòng)\n",
    "d = int(input())\n",
    "m = int(input())\n",
    "y = int(input())\n",
    "\n",
    "def is_leap(year: int) -> bool:\n",
    "    \"\"\"Năm nhuận theo lịch Gregory.\"\"\"\n",
    "    return (year % 400 == 0) or (year % 4 == 0 and year % 100 != 0)\n",
    "\n",
    "def days_in_month(month: int, year: int) -> int:\n",
    "    \"\"\"Số ngày của tháng 'month' trong năm 'year'.\"\"\"\n",
    "    if month in (1, 3, 5, 7, 8, 10, 12):\n",
    "        return 31\n",
    "    if month in (4, 6, 9, 11):\n",
    "        return 30\n",
    "    # month == 2\n",
    "    return 29 if is_leap(year) else 28\n",
    "\n",
    "def previous_day(d: int, m: int, y: int):\n",
    "    \"\"\"Trả về ngày trước đó (D, M, Y).\"\"\"\n",
    "    if d > 1:\n",
    "        return d - 1, m, y\n",
    "    # d == 1\n",
    "    if m == 1:\n",
    "        return days_in_month(12, y - 1), 12, y - 1\n",
    "    prev_m = m - 1\n",
    "    return days_in_month(prev_m, y), prev_m, y\n",
    "\n",
    "pd, pm, py = previous_day(d, m, y)\n",
    "print(f\"Previous day of {d}/{m}/{y} is {pd}/{pm}/{py}.\")\n"
   ]
  },
  {
   "cell_type": "code",
   "execution_count": 17,
   "id": "69fdc54e-9870-49ae-a355-9446450d022c",
   "metadata": {},
   "outputs": [
    {
     "name": "stdout",
     "output_type": "stream",
     "text": [
      "Writing PreviousDay.in0\n"
     ]
    }
   ],
   "source": [
    "%%writefile PreviousDay.in0\n",
    "1\n",
    "2\n",
    "2015\n"
   ]
  },
  {
   "cell_type": "code",
   "execution_count": 18,
   "id": "db0fc665-3f60-4853-98df-084562b96bdc",
   "metadata": {},
   "outputs": [
    {
     "name": "stdout",
     "output_type": "stream",
     "text": [
      "Writing PreviousDay.in1\n"
     ]
    }
   ],
   "source": [
    "%%writefile PreviousDay.in1\n",
    "1\n",
    "1\n",
    "2015\n"
   ]
  },
  {
   "cell_type": "code",
   "execution_count": 19,
   "id": "4833a663-15dd-4497-ac6e-db4a1fa58d2d",
   "metadata": {},
   "outputs": [
    {
     "name": "stdout",
     "output_type": "stream",
     "text": [
      "Writing PreviousDay.in2\n"
     ]
    }
   ],
   "source": [
    "%%writefile PreviousDay.in2\n",
    "1\n",
    "3\n",
    "2015\n"
   ]
  },
  {
   "cell_type": "code",
   "execution_count": 20,
   "id": "013abc41-c7be-46ab-831c-8ee13ffdfac8",
   "metadata": {},
   "outputs": [
    {
     "name": "stdout",
     "output_type": "stream",
     "text": [
      "Writing PreviousDay.in3\n"
     ]
    }
   ],
   "source": [
    "%%writefile PreviousDay.in3\n",
    "1\n",
    "3\n",
    "2016\n"
   ]
  },
  {
   "cell_type": "code",
   "execution_count": 21,
   "id": "4f2c706a-fce2-416e-86ee-ec6ca248b5b6",
   "metadata": {},
   "outputs": [
    {
     "name": "stdout",
     "output_type": "stream",
     "text": [
      "Previous day of 1/2/2015 is 31/1/2015.\n",
      "Previous day of 1/1/2015 is 31/12/2014.\n",
      "Previous day of 1/3/2015 is 28/2/2015.\n",
      "Previous day of 1/3/2016 is 29/2/2016.\n"
     ]
    }
   ],
   "source": [
    "!python PreviousDay.py < PreviousDay.in0\n",
    "!python PreviousDay.py < PreviousDay.in1\n",
    "!python PreviousDay.py < PreviousDay.in2\n",
    "!python PreviousDay.py < PreviousDay.in3\n"
   ]
  },
  {
   "cell_type": "markdown",
   "id": "df33567e-084a-4e95-b0b2-e8fde189750f",
   "metadata": {},
   "source": [
    "### Bai 8"
   ]
  },
  {
   "cell_type": "code",
   "execution_count": 22,
   "id": "e343d2f5-58d4-44f0-b5b3-2700479c65f0",
   "metadata": {},
   "outputs": [
    {
     "name": "stdout",
     "output_type": "stream",
     "text": [
      "Writing CheckTriangle.py\n"
     ]
    }
   ],
   "source": [
    "%%writefile CheckTriangle.py\n",
    "# Input: a, b, c (độ dài 3 cạnh)\n",
    "a = float(input())\n",
    "b = float(input())\n",
    "c = float(input())\n",
    "\n",
    "def fmt(x):\n",
    "    # in gọn gàng: 5.0 -> 5 ; 5.25 -> 5.25\n",
    "    return f\"{x:g}\"\n",
    "\n",
    "def is_triangle(a, b, c):\n",
    "    # Sắp xếp tăng dần rồi kiểm tra bất đẳng thức tam giác\n",
    "    x, y, z = sorted([a, b, c])  # x <= y <= z\n",
    "    return x > 0 and x + y > z\n",
    "\n",
    "# Tính cạnh lớn nhất\n",
    "m = max(a, b, c)\n",
    "\n",
    "# Output\n",
    "print(f\"Max({fmt(a)}, {fmt(b)}, {fmt(c)}) = {fmt(m)}.\")\n",
    "print(\"Triangle: YES\" if is_triangle(a, b, c) else \"Triangle: NO\")\n"
   ]
  },
  {
   "cell_type": "code",
   "execution_count": 23,
   "id": "bbf0fc20-fe53-496b-a73a-93e2674fa4b1",
   "metadata": {},
   "outputs": [
    {
     "name": "stdout",
     "output_type": "stream",
     "text": [
      "Writing CheckTriangle.in0\n"
     ]
    }
   ],
   "source": [
    "%%writefile CheckTriangle.in0\n",
    "5\n",
    "3\n",
    "4\n"
   ]
  },
  {
   "cell_type": "code",
   "execution_count": 24,
   "id": "7f65b483-4d59-4966-b1cc-e15ad3e2b17f",
   "metadata": {},
   "outputs": [
    {
     "name": "stdout",
     "output_type": "stream",
     "text": [
      "Writing CheckTriangle.in1\n"
     ]
    }
   ],
   "source": [
    "%%writefile CheckTriangle.in1\n",
    "2\n",
    "5\n",
    "4\n"
   ]
  },
  {
   "cell_type": "code",
   "execution_count": 25,
   "id": "93d024d7-9c02-4543-92e6-c7907c46c5a9",
   "metadata": {},
   "outputs": [
    {
     "name": "stdout",
     "output_type": "stream",
     "text": [
      "Writing CheckTriangle.in2\n"
     ]
    }
   ],
   "source": [
    "%%writefile CheckTriangle.in2\n",
    "1\n",
    "2\n",
    "3\n"
   ]
  },
  {
   "cell_type": "code",
   "execution_count": 26,
   "id": "ee61b437-b435-42ff-b465-4d7d44d3d303",
   "metadata": {},
   "outputs": [
    {
     "name": "stdout",
     "output_type": "stream",
     "text": [
      "Max(5, 3, 4) = 5.\n",
      "Triangle: YES\n",
      "Max(2, 5, 4) = 5.\n",
      "Triangle: YES\n",
      "Max(1, 2, 3) = 3.\n",
      "Triangle: NO\n"
     ]
    }
   ],
   "source": [
    "!python CheckTriangle.py < CheckTriangle.in0\n",
    "!python CheckTriangle.py < CheckTriangle.in1\n",
    "!python CheckTriangle.py < CheckTriangle.in2\n"
   ]
  },
  {
   "cell_type": "markdown",
   "id": "d293f9c3-b7bf-4991-82b7-c138344b5755",
   "metadata": {},
   "source": [
    "## Bài tập thêm"
   ]
  },
  {
   "cell_type": "markdown",
   "id": "22003516-bdd1-4544-a625-b89024dcde8d",
   "metadata": {},
   "source": [
    "### Bai 1\n"
   ]
  },
  {
   "cell_type": "code",
   "execution_count": 32,
   "id": "4af769d9-598d-4cdf-b1f2-fa66e32590d6",
   "metadata": {},
   "outputs": [
    {
     "name": "stdout",
     "output_type": "stream",
     "text": [
      "Writing MaxMin5.py\n"
     ]
    }
   ],
   "source": [
    "%%writefile MaxMin5.py\n",
    "# Input: 5 số a, b, c, d, e\n",
    "a = float(input())\n",
    "b = float(input())\n",
    "c = float(input())\n",
    "d = float(input())\n",
    "e = float(input())\n",
    "\n",
    "# Gom vào list để dễ xử lý\n",
    "nums = [a, b, c, d, e]\n",
    "\n",
    "mn = min(nums)\n",
    "mx = max(nums)\n",
    "\n",
    "# Output theo đề: in min trước rồi đến max\n",
    "print(f\"{int(mn)} {int(mx)}\")\n"
   ]
  },
  {
   "cell_type": "code",
   "execution_count": 33,
   "id": "5b94ac5e-b9da-4c90-aead-dfab585bdb67",
   "metadata": {},
   "outputs": [
    {
     "name": "stdout",
     "output_type": "stream",
     "text": [
      "Writing MaxMin5.in0\n"
     ]
    }
   ],
   "source": [
    "%%writefile MaxMin5.in0\n",
    "1\n",
    "5\n",
    "6\n",
    "2\n",
    "8\n"
   ]
  },
  {
   "cell_type": "code",
   "execution_count": 34,
   "id": "73043c92-b106-4288-8150-6335118c77bd",
   "metadata": {},
   "outputs": [
    {
     "name": "stdout",
     "output_type": "stream",
     "text": [
      "1 8\n"
     ]
    }
   ],
   "source": [
    "!python MaxMin5.py < MaxMin5.in0\n"
   ]
  },
  {
   "cell_type": "markdown",
   "id": "fdd1f884-d77a-41b7-8646-e875e19809d0",
   "metadata": {},
   "source": [
    "### Bai 2"
   ]
  },
  {
   "cell_type": "code",
   "execution_count": 35,
   "id": "d607a684-8db4-42ba-bfd0-dbad72c10d70",
   "metadata": {},
   "outputs": [
    {
     "name": "stdout",
     "output_type": "stream",
     "text": [
      "Writing SolvQuadEq.py\n"
     ]
    }
   ],
   "source": [
    "%%writefile SolvQuadEq.py\n",
    "# ax^2 + bx + c = 0\n",
    "a = float(input())\n",
    "b = float(input())\n",
    "c = float(input())\n",
    "\n",
    "def solve_quadratic(a,b,c):\n",
    "    if a == 0:\n",
    "        # bx + c = 0\n",
    "        if b == 0:\n",
    "            return \"Unlimited solutions\" if c == 0 else \"No solution\"\n",
    "        x = -c / b\n",
    "        return \"x1=%.2f\" % (x)\n",
    "    else:\n",
    "        d = b*b - 4*a*c\n",
    "        if d < 0:\n",
    "            return \"No solution\"\n",
    "        elif d == 0:\n",
    "            x = -b / (2*a)\n",
    "            return \"x1=%.2f\" % (x)\n",
    "        else:\n",
    "            sqrt_d = d**0.5\n",
    "            x1 = (-b - sqrt_d) / (2*a)\n",
    "            x2 = (-b + sqrt_d) / (2*a)\n",
    "            # in theo thứ tự tăng\n",
    "            if x1 > x2: x1, x2 = x2, x1\n",
    "            return \"x1=%.2f, x2=%.2f\" % (x1, x2)\n",
    "\n",
    "print(solve_quadratic(a,b,c))\n"
   ]
  },
  {
   "cell_type": "code",
   "execution_count": 36,
   "id": "bad1d894-902e-4427-93da-73cb6ce98578",
   "metadata": {},
   "outputs": [
    {
     "name": "stdout",
     "output_type": "stream",
     "text": [
      "Writing SolvQuadEq.in0\n"
     ]
    }
   ],
   "source": [
    "%%writefile SolvQuadEq.in0\n",
    "0\n",
    "0\n",
    "0\n"
   ]
  },
  {
   "cell_type": "code",
   "execution_count": 37,
   "id": "536d3099-5feb-497a-9e12-c4ef482ffd42",
   "metadata": {},
   "outputs": [
    {
     "name": "stdout",
     "output_type": "stream",
     "text": [
      "Writing SolvQuadEq.in1\n"
     ]
    }
   ],
   "source": [
    "%%writefile SolvQuadEq.in1\n",
    "1\n",
    "-5\n",
    "6\n"
   ]
  },
  {
   "cell_type": "code",
   "execution_count": 38,
   "id": "6afecf82-6da4-4b1c-84ce-879079d59be2",
   "metadata": {},
   "outputs": [
    {
     "name": "stdout",
     "output_type": "stream",
     "text": [
      "Writing SolvQuadEq.in2\n"
     ]
    }
   ],
   "source": [
    "%%writefile SolvQuadEq.in2\n",
    "1\n",
    "-2\n",
    "1\n"
   ]
  },
  {
   "cell_type": "code",
   "execution_count": 39,
   "id": "ca909c86-a3a9-4c81-a142-0eb796ccae7a",
   "metadata": {},
   "outputs": [
    {
     "name": "stdout",
     "output_type": "stream",
     "text": [
      "Writing SolvQuadEq.in3\n"
     ]
    }
   ],
   "source": [
    "%%writefile SolvQuadEq.in3\n",
    "1\n",
    "9\n",
    "1\n"
   ]
  },
  {
   "cell_type": "code",
   "execution_count": 40,
   "id": "e582541a-382f-43e6-9031-30273aa117f5",
   "metadata": {},
   "outputs": [
    {
     "name": "stdout",
     "output_type": "stream",
     "text": [
      "Overwriting SolvQuadEq.in3\n"
     ]
    }
   ],
   "source": [
    "%%writefile SolvQuadEq.in3\n",
    "1\n",
    "9\n",
    "1\n"
   ]
  },
  {
   "cell_type": "code",
   "execution_count": 41,
   "id": "e89ac47c-cd7d-4efa-af1e-25ac57812df8",
   "metadata": {},
   "outputs": [
    {
     "name": "stdout",
     "output_type": "stream",
     "text": [
      "Unlimited solutions\n",
      "x1=2.00, x2=3.00\n",
      "x1=1.00\n",
      "x1=-8.89, x2=-0.11\n"
     ]
    }
   ],
   "source": [
    "!python SolvQuadEq.py < SolvQuadEq.in0\n",
    "!python SolvQuadEq.py < SolvQuadEq.in1\n",
    "!python SolvQuadEq.py < SolvQuadEq.in2\n",
    "!python SolvQuadEq.py < SolvQuadEq.in3\n"
   ]
  },
  {
   "cell_type": "markdown",
   "id": "297c379f-547f-4571-905f-db16a20d7bcd",
   "metadata": {},
   "source": [
    "### Bai 3"
   ]
  },
  {
   "cell_type": "code",
   "execution_count": 42,
   "id": "98372426-c4b0-490e-b390-ed18992443ce",
   "metadata": {},
   "outputs": [
    {
     "name": "stdout",
     "output_type": "stream",
     "text": [
      "Writing TotalDayMonth.py\n"
     ]
    }
   ],
   "source": [
    "%%writefile TotalDayMonth.py\n",
    "# Input: m (tháng), y (năm)\n",
    "m = int(input())\n",
    "y = int(input())\n",
    "\n",
    "def is_leap(year):\n",
    "    return (year % 400 == 0) or (year % 4 == 0 and year % 100 != 0)\n",
    "\n",
    "def days_in_month(m, y):\n",
    "    if m in (1,3,5,7,8,10,12): return 31\n",
    "    if m in (4,6,9,11): return 30\n",
    "    return 29 if is_leap(y) else 28\n",
    "\n",
    "print(days_in_month(m, y))\n"
   ]
  },
  {
   "cell_type": "code",
   "execution_count": 43,
   "id": "d1f905b2-1aa9-40c1-933d-d1812d5d928d",
   "metadata": {},
   "outputs": [
    {
     "name": "stdout",
     "output_type": "stream",
     "text": [
      "Writing TotalDayMonth.in0\n"
     ]
    }
   ],
   "source": [
    "%%writefile TotalDayMonth.in0\n",
    "1\n",
    "2015\n"
   ]
  },
  {
   "cell_type": "code",
   "execution_count": 44,
   "id": "b3ae1a5e-68c4-4efb-9d9f-f02a18131b6f",
   "metadata": {},
   "outputs": [
    {
     "name": "stdout",
     "output_type": "stream",
     "text": [
      "Writing TotalDayMonth.in1\n"
     ]
    }
   ],
   "source": [
    "%%writefile TotalDayMonth.in1\n",
    "2\n",
    "2016\n"
   ]
  },
  {
   "cell_type": "code",
   "execution_count": 45,
   "id": "edc6a5b4-574b-4027-842a-ea10e23cb3d4",
   "metadata": {},
   "outputs": [
    {
     "name": "stdout",
     "output_type": "stream",
     "text": [
      "Writing TotalDayMonth.in2\n"
     ]
    }
   ],
   "source": [
    "%%writefile TotalDayMonth.in2\n",
    "2\n",
    "2015\n"
   ]
  },
  {
   "cell_type": "code",
   "execution_count": 46,
   "id": "23bff50c-d52f-4a1d-80a8-3f269dde21ed",
   "metadata": {},
   "outputs": [
    {
     "name": "stdout",
     "output_type": "stream",
     "text": [
      "31\n",
      "29\n",
      "28\n"
     ]
    }
   ],
   "source": [
    "!python TotalDayMonth.py < TotalDayMonth.in0\n",
    "!python TotalDayMonth.py < TotalDayMonth.in1\n",
    "!python TotalDayMonth.py < TotalDayMonth.in2\n"
   ]
  },
  {
   "cell_type": "markdown",
   "id": "819da5ab-7aa1-49d3-8c2f-eaef667f44ee",
   "metadata": {},
   "source": [
    "### Bai 4"
   ]
  },
  {
   "cell_type": "code",
   "execution_count": 47,
   "id": "dda136fc-71d5-41b2-b65a-f9ec7b504be7",
   "metadata": {},
   "outputs": [
    {
     "name": "stdout",
     "output_type": "stream",
     "text": [
      "Writing MaxDigit.py\n"
     ]
    }
   ],
   "source": [
    "%%writefile MaxDigit.py\n",
    "# Input: số tự nhiên 4 chữ số n\n",
    "n = int(input())\n",
    "# Lấy từng chữ số\n",
    "a = (n // 1000) % 10\n",
    "b = (n // 100) % 10\n",
    "c = (n // 10) % 10\n",
    "d = n % 10\n",
    "print(max(a,b,c,d))\n"
   ]
  },
  {
   "cell_type": "code",
   "execution_count": 48,
   "id": "28fa0874-4298-4cd2-bfa6-945b34ee58f5",
   "metadata": {},
   "outputs": [
    {
     "name": "stdout",
     "output_type": "stream",
     "text": [
      "Writing MaxDigit.in0\n"
     ]
    }
   ],
   "source": [
    "%%writefile MaxDigit.in0\n",
    "2387\n"
   ]
  },
  {
   "cell_type": "code",
   "execution_count": 49,
   "id": "d46d1074-bcb2-472e-84c4-2675df62fcf5",
   "metadata": {},
   "outputs": [
    {
     "name": "stdout",
     "output_type": "stream",
     "text": [
      "Writing MaxDigit.in1\n"
     ]
    }
   ],
   "source": [
    "%%writefile MaxDigit.in1\n",
    "5012\n"
   ]
  },
  {
   "cell_type": "code",
   "execution_count": 50,
   "id": "67ca3127-1e34-46b1-9586-dda305af9134",
   "metadata": {},
   "outputs": [
    {
     "name": "stdout",
     "output_type": "stream",
     "text": [
      "8\n",
      "5\n"
     ]
    }
   ],
   "source": [
    "!python MaxDigit.py < MaxDigit.in0\n",
    "!python MaxDigit.py < MaxDigit.in1\n"
   ]
  },
  {
   "cell_type": "markdown",
   "id": "e165bd9f-224c-4811-8811-592cc6e667d8",
   "metadata": {},
   "source": [
    "### Bai 5"
   ]
  },
  {
   "cell_type": "code",
   "execution_count": 51,
   "id": "078db317-c97c-4a61-a7c6-a17d02b9a081",
   "metadata": {},
   "outputs": [
    {
     "name": "stdout",
     "output_type": "stream",
     "text": [
      "Writing GPA.py\n"
     ]
    }
   ],
   "source": [
    "%%writefile GPA.py\n",
    "# Input: Toan, Ly, Hoa (điểm 0..10)\n",
    "toan = float(input())\n",
    "ly   = float(input())\n",
    "hoa  = float(input())\n",
    "\n",
    "avg = (toan*2 + ly*3 + hoa) / 6\n",
    "\n",
    "if 8 <= avg <= 10:\n",
    "    rating = \"Good\"\n",
    "elif 6.5 <= avg < 8:\n",
    "    rating = \"Pretty\"\n",
    "elif 5 <= avg < 6.5:\n",
    "    rating = \"Average\"\n",
    "else:\n",
    "    rating = \"Weak\"\n",
    "\n",
    "print(\"Average point = %.2f, rating %s.\" % (avg, rating))\n"
   ]
  },
  {
   "cell_type": "code",
   "execution_count": 52,
   "id": "b37803c3-6f23-4698-86a3-50d2f8f3147a",
   "metadata": {},
   "outputs": [
    {
     "name": "stdout",
     "output_type": "stream",
     "text": [
      "Writing GPA.in0\n"
     ]
    }
   ],
   "source": [
    "%%writefile GPA.in0\n",
    "7\n",
    "9\n",
    "8\n"
   ]
  },
  {
   "cell_type": "code",
   "execution_count": 53,
   "id": "d7d0bb26-96f0-457c-9be4-11877f2451f1",
   "metadata": {},
   "outputs": [
    {
     "name": "stdout",
     "output_type": "stream",
     "text": [
      "Writing GPA.in1\n"
     ]
    }
   ],
   "source": [
    "%%writefile GPA.in1\n",
    "5\n",
    "6\n",
    "7\n"
   ]
  },
  {
   "cell_type": "code",
   "execution_count": 54,
   "id": "710cf4aa-8c18-40a2-a662-707103c3983f",
   "metadata": {},
   "outputs": [
    {
     "name": "stdout",
     "output_type": "stream",
     "text": [
      "Average point = 8.17, rating Good.\n",
      "Average point = 5.83, rating Average.\n"
     ]
    }
   ],
   "source": [
    "!python GPA.py < GPA.in0\n",
    "!python GPA.py < GPA.in1\n"
   ]
  },
  {
   "cell_type": "markdown",
   "id": "08318f8c-9193-4891-bd23-42e110bb79dd",
   "metadata": {},
   "source": [
    "### Bai 6"
   ]
  },
  {
   "cell_type": "code",
   "execution_count": 1,
   "id": "b0dc9805-ec59-4281-bb0d-4739a9f7c6b2",
   "metadata": {},
   "outputs": [
    {
     "name": "stdout",
     "output_type": "stream",
     "text": [
      "Writing WaterPayment.py\n"
     ]
    }
   ],
   "source": [
    "%%writefile WaterPayment.py\n",
    "# Input: old_m3, new_m3  (2 dòng)\n",
    "old_m3 = int(input())\n",
    "new_m3 = int(input())\n",
    "\n",
    "# Bậc thang theo m3/tháng (giả định hộ 1 người, theo ví dụ đề)\n",
    "RATES = [(4, 4400), (2, 8300), (float('inf'), 10500)]\n",
    "\n",
    "def bill(used):\n",
    "    total, remain = 0, used\n",
    "    for block, price in RATES:\n",
    "        take = min(remain, block)\n",
    "        if take <= 0:\n",
    "            break\n",
    "        total += take * price\n",
    "        remain -= take\n",
    "    return total\n",
    "\n",
    "if new_m3 < old_m3:\n",
    "    print(\"Input error: new index < old index\")\n",
    "else:\n",
    "    used = new_m3 - old_m3\n",
    "    amount = bill(used)\n",
    "    # Định dạng kiểu 8.800 đ như ví dụ\n",
    "    fmt_amount = f\"{amount:,}\".replace(\",\", \".\")\n",
    "    print(f\"Payment for {used} m^3 in month is {fmt_amount} đ.\")\n"
   ]
  },
  {
   "cell_type": "code",
   "execution_count": 2,
   "id": "949a2f7f-5e2a-4fe8-aa8c-c36c2aaa82c8",
   "metadata": {},
   "outputs": [
    {
     "name": "stdout",
     "output_type": "stream",
     "text": [
      "Writing WaterPayment.in0\n"
     ]
    }
   ],
   "source": [
    "%%writefile WaterPayment.in0\n",
    "1\n",
    "3\n"
   ]
  },
  {
   "cell_type": "code",
   "execution_count": 3,
   "id": "f1f548e6-bf33-4e2e-b967-7f67df98a4c0",
   "metadata": {},
   "outputs": [
    {
     "name": "stdout",
     "output_type": "stream",
     "text": [
      "Payment for 2 m^3 in month is 8.800 đ.\n"
     ]
    }
   ],
   "source": [
    "!python WaterPayment.py < WaterPayment.in0\n"
   ]
  },
  {
   "cell_type": "markdown",
   "id": "357168b3-e14f-48e6-9e54-21b7e526dbe0",
   "metadata": {},
   "source": [
    "### Bai 7"
   ]
  },
  {
   "cell_type": "code",
   "execution_count": 4,
   "id": "817d5001-5430-45b5-a9ee-74fed98f5954",
   "metadata": {},
   "outputs": [
    {
     "name": "stdout",
     "output_type": "stream",
     "text": [
      "Writing NextDay.py\n"
     ]
    }
   ],
   "source": [
    "%%writefile NextDay.py\n",
    "# Input: d, m, y (3 dòng)\n",
    "d = int(input())\n",
    "m = int(input())\n",
    "y = int(input())\n",
    "\n",
    "def is_leap(year):\n",
    "    return (year % 400 == 0) or (year % 4 == 0 and year % 100 != 0)\n",
    "\n",
    "def dim(month, year):\n",
    "    if month in (1,3,5,7,8,10,12): return 31\n",
    "    if month in (4,6,9,11): return 30\n",
    "    return 29 if is_leap(year) else 28\n",
    "\n",
    "def next_day(d, m, y):\n",
    "    if d < dim(m, y):\n",
    "        return d + 1, m, y\n",
    "    if m < 12:\n",
    "        return 1, m + 1, y\n",
    "    return 1, 12, y + 1\n",
    "\n",
    "nd, nm, ny = next_day(d, m, y)\n",
    "print(f\"{nd}/{nm}/{ny}\")\n"
   ]
  },
  {
   "cell_type": "code",
   "execution_count": 5,
   "id": "33d55008-5548-4f19-8d86-bb849a2f06db",
   "metadata": {},
   "outputs": [
    {
     "name": "stdout",
     "output_type": "stream",
     "text": [
      "Writing NextDay.in0\n"
     ]
    }
   ],
   "source": [
    "%%writefile NextDay.in0\n",
    "31\n",
    "1\n",
    "2016\n"
   ]
  },
  {
   "cell_type": "code",
   "execution_count": 6,
   "id": "d2c33e0f-bd9d-4c53-851d-b49de7154c13",
   "metadata": {},
   "outputs": [
    {
     "name": "stdout",
     "output_type": "stream",
     "text": [
      "1/2/2016\n"
     ]
    }
   ],
   "source": [
    "!python NextDay.py < NextDay.in0\n"
   ]
  },
  {
   "cell_type": "markdown",
   "id": "3bb7c711-318a-4b05-ae70-0662210c9a95",
   "metadata": {},
   "source": [
    "### Bai 8"
   ]
  },
  {
   "cell_type": "code",
   "execution_count": 7,
   "id": "b0179b0b-1777-49b3-b089-459db1f92296",
   "metadata": {},
   "outputs": [
    {
     "name": "stdout",
     "output_type": "stream",
     "text": [
      "Writing NumberInfo.py\n"
     ]
    }
   ],
   "source": [
    "%%writefile NumberInfo.py\n",
    "# Input: n (n < 1000)\n",
    "n = int(input())\n",
    "\n",
    "# Số chữ số\n",
    "if n == 0:\n",
    "    digits = 1\n",
    "else:\n",
    "    digits = 0\n",
    "    t = abs(n)\n",
    "    while t > 0:\n",
    "        digits += 1\n",
    "        t //= 10\n",
    "\n",
    "# Tổng chữ số, chữ số đầu/cuối (làm với trị tuyệt đối)\n",
    "t = abs(n)\n",
    "last = t % 10\n",
    "first = t\n",
    "while first >= 10:\n",
    "    first //= 10\n",
    "\n",
    "sum_digits = 0\n",
    "tmp = abs(n)\n",
    "while tmp > 0:\n",
    "    sum_digits += tmp % 10\n",
    "    tmp //= 10\n",
    "\n",
    "print(f\"{n} has {digits} digits.\")\n",
    "print(f\"1 + 5 + 6 = {sum_digits}.\")  # theo ví dụ cách trình bày phép cộng\n",
    "print(f\"Last digit is {last}.\")\n",
    "print(f\"First digit is {first}.\")\n"
   ]
  },
  {
   "cell_type": "code",
   "execution_count": 8,
   "id": "6c812eeb-78ec-41ff-9ce1-ab048f1b7690",
   "metadata": {},
   "outputs": [
    {
     "name": "stdout",
     "output_type": "stream",
     "text": [
      "Writing NumberInfo.in0\n"
     ]
    }
   ],
   "source": [
    "%%writefile NumberInfo.in0\n",
    "156\n"
   ]
  },
  {
   "cell_type": "code",
   "execution_count": 9,
   "id": "1ec559a5-d82f-4c54-964d-ffd6617d0b46",
   "metadata": {},
   "outputs": [
    {
     "name": "stdout",
     "output_type": "stream",
     "text": [
      "156 has 3 digits.\n",
      "1 + 5 + 6 = 12.\n",
      "Last digit is 6.\n",
      "First digit is 1.\n"
     ]
    }
   ],
   "source": [
    "!python NumberInfo.py < NumberInfo.in0\n"
   ]
  },
  {
   "cell_type": "code",
   "execution_count": null,
   "id": "a83a2967-ab86-4f9d-a307-ba7d48c8a601",
   "metadata": {},
   "outputs": [],
   "source": []
  }
 ],
 "metadata": {
  "kernelspec": {
   "display_name": "Python 3 (ipykernel)",
   "language": "python",
   "name": "python3"
  },
  "language_info": {
   "codemirror_mode": {
    "name": "ipython",
    "version": 3
   },
   "file_extension": ".py",
   "mimetype": "text/x-python",
   "name": "python",
   "nbconvert_exporter": "python",
   "pygments_lexer": "ipython3",
   "version": "3.12.1"
  }
 },
 "nbformat": 4,
 "nbformat_minor": 5
}
